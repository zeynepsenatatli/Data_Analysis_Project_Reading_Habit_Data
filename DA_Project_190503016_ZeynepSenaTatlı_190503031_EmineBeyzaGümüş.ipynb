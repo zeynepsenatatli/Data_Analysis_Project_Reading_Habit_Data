{
  "nbformat": 4,
  "nbformat_minor": 0,
  "metadata": {
    "colab": {
      "provenance": [],
      "collapsed_sections": [
        "i7oalL36LnGw",
        "aCaqXhJoD5Lm",
        "-MNienMUcIIb"
      ],
      "include_colab_link": true
    },
    "kernelspec": {
      "name": "python3",
      "display_name": "Python 3"
    },
    "language_info": {
      "name": "python"
    }
  },
  "cells": [
    {
      "cell_type": "markdown",
      "metadata": {
        "id": "view-in-github",
        "colab_type": "text"
      },
      "source": [
        "<a href=\"https://colab.research.google.com/github/zeynepsenatatli/Data_Analysis_Project_Reading_Habit_Data/blob/main/DA_Project_190503016_ZeynepSenaTatl%C4%B1_190503031_EmineBeyzaG%C3%BCm%C3%BC%C5%9F.ipynb\" target=\"_parent\"><img src=\"https://colab.research.google.com/assets/colab-badge.svg\" alt=\"Open In Colab\"/></a>"
      ]
    },
    {
      "cell_type": "markdown",
      "source": [
        "# Reading Habit Data\n",
        "*Dataset:* https://www.kaggle.com/datasets/vipulgote4/reading-habit-dataset\n",
        "\n",
        "\n",
        "**Erstellt von:** <br>\n",
        "Zeynep Sena Tatlı - 190503016  <br>\n",
        "Emine Beyza Gümüş - 190503031\n",
        "\n"
      ],
      "metadata": {
        "id": "Kvcod7q2GTXl"
      }
    },
    {
      "cell_type": "markdown",
      "source": [
        "## Imports und Datensätze"
      ],
      "metadata": {
        "id": "i7oalL36LnGw"
      }
    },
    {
      "cell_type": "code",
      "execution_count": 3,
      "metadata": {
        "id": "7-mQsMGRJ3GE"
      },
      "outputs": [],
      "source": [
        "import pandas as pd\n",
        "import numpy as np\n",
        "import matplotlib.pyplot as plt\n",
        "import seaborn as sns\n",
        "from pandas.api.types import CategoricalDtype"
      ]
    },
    {
      "cell_type": "code",
      "source": [
        "df = pd.read_csv('/content/ReadingHabitDataset.csv')\n",
        "df"
      ],
      "metadata": {
        "colab": {
          "base_uri": "https://localhost:8080/",
          "height": 918
        },
        "id": "V4cOsdhKaxJM",
        "outputId": "92a95b00-7614-47d9-95e4-96cc31523c4c"
      },
      "execution_count": 4,
      "outputs": [
        {
          "output_type": "execute_result",
          "data": {
            "text/plain": [
              "      Age     Sex                             Race     Marital status?  \\\n",
              "0      66    Male                          Refused            Divorced   \n",
              "1      46    Male  Native American/American Indian             Married   \n",
              "2      32    Male                       Mixed race  Never been married   \n",
              "3      27    Male                       Mixed race             Married   \n",
              "4      16  Female                       Mixed race  Never been married   \n",
              "...   ...     ...                              ...                 ...   \n",
              "2827   18    Male                            White  Never been married   \n",
              "2828   17    Male                            White  Never been married   \n",
              "2829   17  Female                            White  Never been married   \n",
              "2830   16    Male                            White  Never been married   \n",
              "2831   16    Male                            White  Never been married   \n",
              "\n",
              "                   Education           Employement  \\\n",
              "0           College graduate               Retired   \n",
              "1       High school graduate    Employed full-time   \n",
              "2       High school graduate    Employed full-time   \n",
              "3       High school graduate    Employed full-time   \n",
              "4     High school incomplete    Employed part-time   \n",
              "...                      ...                   ...   \n",
              "2827    High school graduate    Employed part-time   \n",
              "2828  High school incomplete    Employed part-time   \n",
              "2829  High school incomplete  Not employed for pay   \n",
              "2830    High school graduate  Not employed for pay   \n",
              "2831              Don’t know  Not employed for pay   \n",
              "\n",
              "                          Incomes  \\\n",
              "0        $20,000 to under $30,000   \n",
              "1               Less than $10,000   \n",
              "2               Less than $10,000   \n",
              "3        $40,000 to under $50,000   \n",
              "4        $10,000 to under $20,000   \n",
              "...                           ...   \n",
              "2827    $75,000 to under $100,000   \n",
              "2828     $30,000 to under $40,000   \n",
              "2829  9$100,000 to under $150,000   \n",
              "2830  9$100,000 to under $150,000   \n",
              "2831                      Refused   \n",
              "\n",
              "      How many books did you read during last 12months?  \\\n",
              "0                                                    97   \n",
              "1                                                    97   \n",
              "2                                                    97   \n",
              "3                                                    97   \n",
              "4                                                    97   \n",
              "...                                                 ...   \n",
              "2827                                                  0   \n",
              "2828                                                  0   \n",
              "2829                                                  0   \n",
              "2830                                                  0   \n",
              "2831                                                  0   \n",
              "\n",
              "     Read any printed books during last 12months?  \\\n",
              "0                                             Yes   \n",
              "1                                             Yes   \n",
              "2                                              No   \n",
              "3                                             Yes   \n",
              "4                                             Yes   \n",
              "...                                           ...   \n",
              "2827                                          NaN   \n",
              "2828                                          NaN   \n",
              "2829                                          NaN   \n",
              "2830                                          NaN   \n",
              "2831                                          NaN   \n",
              "\n",
              "     Read any audiobooks during last 12months?  \\\n",
              "0                                           No   \n",
              "1                                          Yes   \n",
              "2                                          Yes   \n",
              "3                                           No   \n",
              "4                                          Yes   \n",
              "...                                        ...   \n",
              "2827                                       NaN   \n",
              "2828                                       NaN   \n",
              "2829                                       NaN   \n",
              "2830                                       NaN   \n",
              "2831                                       NaN   \n",
              "\n",
              "     Read any e-books during last 12months?  \\\n",
              "0                                       Yes   \n",
              "1                                       Yes   \n",
              "2                                       Yes   \n",
              "3                                       Yes   \n",
              "4                                        No   \n",
              "...                                     ...   \n",
              "2827                                    NaN   \n",
              "2828                                    NaN   \n",
              "2829                                    NaN   \n",
              "2830                                    NaN   \n",
              "2831                                    NaN   \n",
              "\n",
              "                              Last book you read, you…  \\\n",
              "0                                   Purchased the book   \n",
              "1                                   Purchased the book   \n",
              "2     Borrowed the book from a friend or family member   \n",
              "3                     Borrowed the book from a library   \n",
              "4                                   Purchased the book   \n",
              "...                                                ...   \n",
              "2827                                               NaN   \n",
              "2828                                               NaN   \n",
              "2829                                               NaN   \n",
              "2830                                               NaN   \n",
              "2831                                               NaN   \n",
              "\n",
              "     Do you happen to read any daily news or newspapers?  \\\n",
              "0                                                    No    \n",
              "1                                                   Yes    \n",
              "2                                                   Yes    \n",
              "3                                                   Yes    \n",
              "4                                                   Yes    \n",
              "...                                                 ...    \n",
              "2827                                                Yes    \n",
              "2828                                                Yes    \n",
              "2829                                                 No    \n",
              "2830                                                 No    \n",
              "2831                                                 No    \n",
              "\n",
              "     Do you happen to read any magazines or journals?  \n",
              "0                                                 Yes  \n",
              "1                                                 Yes  \n",
              "2                                                 Yes  \n",
              "3                                                  No  \n",
              "4                                                  No  \n",
              "...                                               ...  \n",
              "2827                                              Yes  \n",
              "2828                                               No  \n",
              "2829                                              Yes  \n",
              "2830                                               No  \n",
              "2831                                               No  \n",
              "\n",
              "[2832 rows x 14 columns]"
            ],
            "text/html": [
              "\n",
              "  <div id=\"df-63bd8122-6b24-46c8-aef9-f1b4c0e3fbd7\">\n",
              "    <div class=\"colab-df-container\">\n",
              "      <div>\n",
              "<style scoped>\n",
              "    .dataframe tbody tr th:only-of-type {\n",
              "        vertical-align: middle;\n",
              "    }\n",
              "\n",
              "    .dataframe tbody tr th {\n",
              "        vertical-align: top;\n",
              "    }\n",
              "\n",
              "    .dataframe thead th {\n",
              "        text-align: right;\n",
              "    }\n",
              "</style>\n",
              "<table border=\"1\" class=\"dataframe\">\n",
              "  <thead>\n",
              "    <tr style=\"text-align: right;\">\n",
              "      <th></th>\n",
              "      <th>Age</th>\n",
              "      <th>Sex</th>\n",
              "      <th>Race</th>\n",
              "      <th>Marital status?</th>\n",
              "      <th>Education</th>\n",
              "      <th>Employement</th>\n",
              "      <th>Incomes</th>\n",
              "      <th>How many books did you read during last 12months?</th>\n",
              "      <th>Read any printed books during last 12months?</th>\n",
              "      <th>Read any audiobooks during last 12months?</th>\n",
              "      <th>Read any e-books during last 12months?</th>\n",
              "      <th>Last book you read, you…</th>\n",
              "      <th>Do you happen to read any daily news or newspapers?</th>\n",
              "      <th>Do you happen to read any magazines or journals?</th>\n",
              "    </tr>\n",
              "  </thead>\n",
              "  <tbody>\n",
              "    <tr>\n",
              "      <th>0</th>\n",
              "      <td>66</td>\n",
              "      <td>Male</td>\n",
              "      <td>Refused</td>\n",
              "      <td>Divorced</td>\n",
              "      <td>College graduate</td>\n",
              "      <td>Retired</td>\n",
              "      <td>$20,000 to under $30,000</td>\n",
              "      <td>97</td>\n",
              "      <td>Yes</td>\n",
              "      <td>No</td>\n",
              "      <td>Yes</td>\n",
              "      <td>Purchased the book</td>\n",
              "      <td>No</td>\n",
              "      <td>Yes</td>\n",
              "    </tr>\n",
              "    <tr>\n",
              "      <th>1</th>\n",
              "      <td>46</td>\n",
              "      <td>Male</td>\n",
              "      <td>Native American/American Indian</td>\n",
              "      <td>Married</td>\n",
              "      <td>High school graduate</td>\n",
              "      <td>Employed full-time</td>\n",
              "      <td>Less than $10,000</td>\n",
              "      <td>97</td>\n",
              "      <td>Yes</td>\n",
              "      <td>Yes</td>\n",
              "      <td>Yes</td>\n",
              "      <td>Purchased the book</td>\n",
              "      <td>Yes</td>\n",
              "      <td>Yes</td>\n",
              "    </tr>\n",
              "    <tr>\n",
              "      <th>2</th>\n",
              "      <td>32</td>\n",
              "      <td>Male</td>\n",
              "      <td>Mixed race</td>\n",
              "      <td>Never been married</td>\n",
              "      <td>High school graduate</td>\n",
              "      <td>Employed full-time</td>\n",
              "      <td>Less than $10,000</td>\n",
              "      <td>97</td>\n",
              "      <td>No</td>\n",
              "      <td>Yes</td>\n",
              "      <td>Yes</td>\n",
              "      <td>Borrowed the book from a friend or family member</td>\n",
              "      <td>Yes</td>\n",
              "      <td>Yes</td>\n",
              "    </tr>\n",
              "    <tr>\n",
              "      <th>3</th>\n",
              "      <td>27</td>\n",
              "      <td>Male</td>\n",
              "      <td>Mixed race</td>\n",
              "      <td>Married</td>\n",
              "      <td>High school graduate</td>\n",
              "      <td>Employed full-time</td>\n",
              "      <td>$40,000 to under $50,000</td>\n",
              "      <td>97</td>\n",
              "      <td>Yes</td>\n",
              "      <td>No</td>\n",
              "      <td>Yes</td>\n",
              "      <td>Borrowed the book from a library</td>\n",
              "      <td>Yes</td>\n",
              "      <td>No</td>\n",
              "    </tr>\n",
              "    <tr>\n",
              "      <th>4</th>\n",
              "      <td>16</td>\n",
              "      <td>Female</td>\n",
              "      <td>Mixed race</td>\n",
              "      <td>Never been married</td>\n",
              "      <td>High school incomplete</td>\n",
              "      <td>Employed part-time</td>\n",
              "      <td>$10,000 to under $20,000</td>\n",
              "      <td>97</td>\n",
              "      <td>Yes</td>\n",
              "      <td>Yes</td>\n",
              "      <td>No</td>\n",
              "      <td>Purchased the book</td>\n",
              "      <td>Yes</td>\n",
              "      <td>No</td>\n",
              "    </tr>\n",
              "    <tr>\n",
              "      <th>...</th>\n",
              "      <td>...</td>\n",
              "      <td>...</td>\n",
              "      <td>...</td>\n",
              "      <td>...</td>\n",
              "      <td>...</td>\n",
              "      <td>...</td>\n",
              "      <td>...</td>\n",
              "      <td>...</td>\n",
              "      <td>...</td>\n",
              "      <td>...</td>\n",
              "      <td>...</td>\n",
              "      <td>...</td>\n",
              "      <td>...</td>\n",
              "      <td>...</td>\n",
              "    </tr>\n",
              "    <tr>\n",
              "      <th>2827</th>\n",
              "      <td>18</td>\n",
              "      <td>Male</td>\n",
              "      <td>White</td>\n",
              "      <td>Never been married</td>\n",
              "      <td>High school graduate</td>\n",
              "      <td>Employed part-time</td>\n",
              "      <td>$75,000 to under $100,000</td>\n",
              "      <td>0</td>\n",
              "      <td>NaN</td>\n",
              "      <td>NaN</td>\n",
              "      <td>NaN</td>\n",
              "      <td>NaN</td>\n",
              "      <td>Yes</td>\n",
              "      <td>Yes</td>\n",
              "    </tr>\n",
              "    <tr>\n",
              "      <th>2828</th>\n",
              "      <td>17</td>\n",
              "      <td>Male</td>\n",
              "      <td>White</td>\n",
              "      <td>Never been married</td>\n",
              "      <td>High school incomplete</td>\n",
              "      <td>Employed part-time</td>\n",
              "      <td>$30,000 to under $40,000</td>\n",
              "      <td>0</td>\n",
              "      <td>NaN</td>\n",
              "      <td>NaN</td>\n",
              "      <td>NaN</td>\n",
              "      <td>NaN</td>\n",
              "      <td>Yes</td>\n",
              "      <td>No</td>\n",
              "    </tr>\n",
              "    <tr>\n",
              "      <th>2829</th>\n",
              "      <td>17</td>\n",
              "      <td>Female</td>\n",
              "      <td>White</td>\n",
              "      <td>Never been married</td>\n",
              "      <td>High school incomplete</td>\n",
              "      <td>Not employed for pay</td>\n",
              "      <td>9$100,000 to under $150,000</td>\n",
              "      <td>0</td>\n",
              "      <td>NaN</td>\n",
              "      <td>NaN</td>\n",
              "      <td>NaN</td>\n",
              "      <td>NaN</td>\n",
              "      <td>No</td>\n",
              "      <td>Yes</td>\n",
              "    </tr>\n",
              "    <tr>\n",
              "      <th>2830</th>\n",
              "      <td>16</td>\n",
              "      <td>Male</td>\n",
              "      <td>White</td>\n",
              "      <td>Never been married</td>\n",
              "      <td>High school graduate</td>\n",
              "      <td>Not employed for pay</td>\n",
              "      <td>9$100,000 to under $150,000</td>\n",
              "      <td>0</td>\n",
              "      <td>NaN</td>\n",
              "      <td>NaN</td>\n",
              "      <td>NaN</td>\n",
              "      <td>NaN</td>\n",
              "      <td>No</td>\n",
              "      <td>No</td>\n",
              "    </tr>\n",
              "    <tr>\n",
              "      <th>2831</th>\n",
              "      <td>16</td>\n",
              "      <td>Male</td>\n",
              "      <td>White</td>\n",
              "      <td>Never been married</td>\n",
              "      <td>Don’t know</td>\n",
              "      <td>Not employed for pay</td>\n",
              "      <td>Refused</td>\n",
              "      <td>0</td>\n",
              "      <td>NaN</td>\n",
              "      <td>NaN</td>\n",
              "      <td>NaN</td>\n",
              "      <td>NaN</td>\n",
              "      <td>No</td>\n",
              "      <td>No</td>\n",
              "    </tr>\n",
              "  </tbody>\n",
              "</table>\n",
              "<p>2832 rows × 14 columns</p>\n",
              "</div>\n",
              "      <button class=\"colab-df-convert\" onclick=\"convertToInteractive('df-63bd8122-6b24-46c8-aef9-f1b4c0e3fbd7')\"\n",
              "              title=\"Convert this dataframe to an interactive table.\"\n",
              "              style=\"display:none;\">\n",
              "        \n",
              "  <svg xmlns=\"http://www.w3.org/2000/svg\" height=\"24px\"viewBox=\"0 0 24 24\"\n",
              "       width=\"24px\">\n",
              "    <path d=\"M0 0h24v24H0V0z\" fill=\"none\"/>\n",
              "    <path d=\"M18.56 5.44l.94 2.06.94-2.06 2.06-.94-2.06-.94-.94-2.06-.94 2.06-2.06.94zm-11 1L8.5 8.5l.94-2.06 2.06-.94-2.06-.94L8.5 2.5l-.94 2.06-2.06.94zm10 10l.94 2.06.94-2.06 2.06-.94-2.06-.94-.94-2.06-.94 2.06-2.06.94z\"/><path d=\"M17.41 7.96l-1.37-1.37c-.4-.4-.92-.59-1.43-.59-.52 0-1.04.2-1.43.59L10.3 9.45l-7.72 7.72c-.78.78-.78 2.05 0 2.83L4 21.41c.39.39.9.59 1.41.59.51 0 1.02-.2 1.41-.59l7.78-7.78 2.81-2.81c.8-.78.8-2.07 0-2.86zM5.41 20L4 18.59l7.72-7.72 1.47 1.35L5.41 20z\"/>\n",
              "  </svg>\n",
              "      </button>\n",
              "      \n",
              "  <style>\n",
              "    .colab-df-container {\n",
              "      display:flex;\n",
              "      flex-wrap:wrap;\n",
              "      gap: 12px;\n",
              "    }\n",
              "\n",
              "    .colab-df-convert {\n",
              "      background-color: #E8F0FE;\n",
              "      border: none;\n",
              "      border-radius: 50%;\n",
              "      cursor: pointer;\n",
              "      display: none;\n",
              "      fill: #1967D2;\n",
              "      height: 32px;\n",
              "      padding: 0 0 0 0;\n",
              "      width: 32px;\n",
              "    }\n",
              "\n",
              "    .colab-df-convert:hover {\n",
              "      background-color: #E2EBFA;\n",
              "      box-shadow: 0px 1px 2px rgba(60, 64, 67, 0.3), 0px 1px 3px 1px rgba(60, 64, 67, 0.15);\n",
              "      fill: #174EA6;\n",
              "    }\n",
              "\n",
              "    [theme=dark] .colab-df-convert {\n",
              "      background-color: #3B4455;\n",
              "      fill: #D2E3FC;\n",
              "    }\n",
              "\n",
              "    [theme=dark] .colab-df-convert:hover {\n",
              "      background-color: #434B5C;\n",
              "      box-shadow: 0px 1px 3px 1px rgba(0, 0, 0, 0.15);\n",
              "      filter: drop-shadow(0px 1px 2px rgba(0, 0, 0, 0.3));\n",
              "      fill: #FFFFFF;\n",
              "    }\n",
              "  </style>\n",
              "\n",
              "      <script>\n",
              "        const buttonEl =\n",
              "          document.querySelector('#df-63bd8122-6b24-46c8-aef9-f1b4c0e3fbd7 button.colab-df-convert');\n",
              "        buttonEl.style.display =\n",
              "          google.colab.kernel.accessAllowed ? 'block' : 'none';\n",
              "\n",
              "        async function convertToInteractive(key) {\n",
              "          const element = document.querySelector('#df-63bd8122-6b24-46c8-aef9-f1b4c0e3fbd7');\n",
              "          const dataTable =\n",
              "            await google.colab.kernel.invokeFunction('convertToInteractive',\n",
              "                                                     [key], {});\n",
              "          if (!dataTable) return;\n",
              "\n",
              "          const docLinkHtml = 'Like what you see? Visit the ' +\n",
              "            '<a target=\"_blank\" href=https://colab.research.google.com/notebooks/data_table.ipynb>data table notebook</a>'\n",
              "            + ' to learn more about interactive tables.';\n",
              "          element.innerHTML = '';\n",
              "          dataTable['output_type'] = 'display_data';\n",
              "          await google.colab.output.renderOutput(dataTable, element);\n",
              "          const docLink = document.createElement('div');\n",
              "          docLink.innerHTML = docLinkHtml;\n",
              "          element.appendChild(docLink);\n",
              "        }\n",
              "      </script>\n",
              "    </div>\n",
              "  </div>\n",
              "  "
            ]
          },
          "metadata": {},
          "execution_count": 4
        }
      ]
    },
    {
      "cell_type": "code",
      "source": [
        "df.info()"
      ],
      "metadata": {
        "colab": {
          "base_uri": "https://localhost:8080/"
        },
        "id": "QcriX0IRcKbA",
        "outputId": "e71fe7fa-43ef-4781-c6f3-52f279271533"
      },
      "execution_count": 5,
      "outputs": [
        {
          "output_type": "stream",
          "name": "stdout",
          "text": [
            "<class 'pandas.core.frame.DataFrame'>\n",
            "RangeIndex: 2832 entries, 0 to 2831\n",
            "Data columns (total 14 columns):\n",
            " #   Column                                               Non-Null Count  Dtype \n",
            "---  ------                                               --------------  ----- \n",
            " 0   Age                                                  2832 non-null   int64 \n",
            " 1   Sex                                                  2832 non-null   object\n",
            " 2   Race                                                 2832 non-null   object\n",
            " 3   Marital status?                                      2832 non-null   object\n",
            " 4   Education                                            2832 non-null   object\n",
            " 5   Employement                                          2832 non-null   object\n",
            " 6   Incomes                                              2832 non-null   object\n",
            " 7   How many books did you read during last 12months?    2832 non-null   int64 \n",
            " 8   Read any printed books during last 12months?         2442 non-null   object\n",
            " 9   Read any audiobooks during last 12months?            2442 non-null   object\n",
            " 10  Read any e-books during last 12months?               2442 non-null   object\n",
            " 11  Last book you read, you…                             2442 non-null   object\n",
            " 12  Do you happen to read any daily news or newspapers?  2832 non-null   object\n",
            " 13  Do you happen to read any magazines or journals?     2832 non-null   object\n",
            "dtypes: int64(2), object(12)\n",
            "memory usage: 309.9+ KB\n"
          ]
        }
      ]
    },
    {
      "cell_type": "markdown",
      "source": [
        "## Bearbeiten von Spaltennamen"
      ],
      "metadata": {
        "id": "aCaqXhJoD5Lm"
      }
    },
    {
      "cell_type": "code",
      "source": [
        "df.rename(columns = {\"Marital status?\":\"Marital status\"}, inplace = True)"
      ],
      "metadata": {
        "id": "v8fHp98_-fOA"
      },
      "execution_count": 6,
      "outputs": []
    },
    {
      "cell_type": "markdown",
      "source": [
        "**einige Spaltennamen ändern:** Da die Texte in den Spalten mit den Fragen sehr lang waren, wäre es schwierig, die Spalten mit diesen Namen anzuwenden und aufzurufen."
      ],
      "metadata": {
        "id": "q8OckBnEEyEZ"
      }
    },
    {
      "cell_type": "code",
      "source": [
        "columns_list = list(df.keys())\n",
        "questions = columns_list[7:]\n",
        "\n",
        "dict_questions = {}\n",
        "for i in range(len(questions)):\n",
        "    dict_questions[\"Q\"+ str(i+1)] = questions[i]\n",
        "\n",
        "dict_questions"
      ],
      "metadata": {
        "colab": {
          "base_uri": "https://localhost:8080/"
        },
        "id": "jiiStPUf_EHC",
        "outputId": "4f03fbe0-d181-4b37-ba93-406790e8da60"
      },
      "execution_count": 7,
      "outputs": [
        {
          "output_type": "execute_result",
          "data": {
            "text/plain": [
              "{'Q1': 'How many books did you read during last 12months?',\n",
              " 'Q2': 'Read any printed books during last 12months?',\n",
              " 'Q3': 'Read any audiobooks during last 12months?',\n",
              " 'Q4': 'Read any e-books during last 12months?',\n",
              " 'Q5': 'Last book you read, you…',\n",
              " 'Q6': 'Do you happen to read any daily news or newspapers?',\n",
              " 'Q7': 'Do you happen to read any magazines or journals?'}"
            ]
          },
          "metadata": {},
          "execution_count": 7
        }
      ]
    },
    {
      "cell_type": "code",
      "source": [
        "for i in range(len(questions)):\n",
        "    df.rename(columns={dict_questions[\"Q\"+str(i+1)]: \"Q\"+str(i+1)},inplace=True)"
      ],
      "metadata": {
        "id": "j-JZ-YaOBirf"
      },
      "execution_count": 8,
      "outputs": []
    },
    {
      "cell_type": "code",
      "source": [
        "df"
      ],
      "metadata": {
        "colab": {
          "base_uri": "https://localhost:8080/",
          "height": 641
        },
        "id": "4XFO9V_4DmCI",
        "outputId": "9cc3cc67-6edc-43cb-9bf2-e85b93c74ff7"
      },
      "execution_count": 9,
      "outputs": [
        {
          "output_type": "execute_result",
          "data": {
            "text/plain": [
              "      Age     Sex                             Race      Marital status  \\\n",
              "0      66    Male                          Refused            Divorced   \n",
              "1      46    Male  Native American/American Indian             Married   \n",
              "2      32    Male                       Mixed race  Never been married   \n",
              "3      27    Male                       Mixed race             Married   \n",
              "4      16  Female                       Mixed race  Never been married   \n",
              "...   ...     ...                              ...                 ...   \n",
              "2827   18    Male                            White  Never been married   \n",
              "2828   17    Male                            White  Never been married   \n",
              "2829   17  Female                            White  Never been married   \n",
              "2830   16    Male                            White  Never been married   \n",
              "2831   16    Male                            White  Never been married   \n",
              "\n",
              "                   Education           Employement  \\\n",
              "0           College graduate               Retired   \n",
              "1       High school graduate    Employed full-time   \n",
              "2       High school graduate    Employed full-time   \n",
              "3       High school graduate    Employed full-time   \n",
              "4     High school incomplete    Employed part-time   \n",
              "...                      ...                   ...   \n",
              "2827    High school graduate    Employed part-time   \n",
              "2828  High school incomplete    Employed part-time   \n",
              "2829  High school incomplete  Not employed for pay   \n",
              "2830    High school graduate  Not employed for pay   \n",
              "2831              Don’t know  Not employed for pay   \n",
              "\n",
              "                          Incomes  Q1   Q2   Q3   Q4  \\\n",
              "0        $20,000 to under $30,000  97  Yes   No  Yes   \n",
              "1               Less than $10,000  97  Yes  Yes  Yes   \n",
              "2               Less than $10,000  97   No  Yes  Yes   \n",
              "3        $40,000 to under $50,000  97  Yes   No  Yes   \n",
              "4        $10,000 to under $20,000  97  Yes  Yes   No   \n",
              "...                           ...  ..  ...  ...  ...   \n",
              "2827    $75,000 to under $100,000   0  NaN  NaN  NaN   \n",
              "2828     $30,000 to under $40,000   0  NaN  NaN  NaN   \n",
              "2829  9$100,000 to under $150,000   0  NaN  NaN  NaN   \n",
              "2830  9$100,000 to under $150,000   0  NaN  NaN  NaN   \n",
              "2831                      Refused   0  NaN  NaN  NaN   \n",
              "\n",
              "                                                    Q5   Q6   Q7  \n",
              "0                                   Purchased the book   No  Yes  \n",
              "1                                   Purchased the book  Yes  Yes  \n",
              "2     Borrowed the book from a friend or family member  Yes  Yes  \n",
              "3                     Borrowed the book from a library  Yes   No  \n",
              "4                                   Purchased the book  Yes   No  \n",
              "...                                                ...  ...  ...  \n",
              "2827                                               NaN  Yes  Yes  \n",
              "2828                                               NaN  Yes   No  \n",
              "2829                                               NaN   No  Yes  \n",
              "2830                                               NaN   No   No  \n",
              "2831                                               NaN   No   No  \n",
              "\n",
              "[2832 rows x 14 columns]"
            ],
            "text/html": [
              "\n",
              "  <div id=\"df-d2ebcaa3-deb0-4c5b-abbf-9f5b7a5326c1\">\n",
              "    <div class=\"colab-df-container\">\n",
              "      <div>\n",
              "<style scoped>\n",
              "    .dataframe tbody tr th:only-of-type {\n",
              "        vertical-align: middle;\n",
              "    }\n",
              "\n",
              "    .dataframe tbody tr th {\n",
              "        vertical-align: top;\n",
              "    }\n",
              "\n",
              "    .dataframe thead th {\n",
              "        text-align: right;\n",
              "    }\n",
              "</style>\n",
              "<table border=\"1\" class=\"dataframe\">\n",
              "  <thead>\n",
              "    <tr style=\"text-align: right;\">\n",
              "      <th></th>\n",
              "      <th>Age</th>\n",
              "      <th>Sex</th>\n",
              "      <th>Race</th>\n",
              "      <th>Marital status</th>\n",
              "      <th>Education</th>\n",
              "      <th>Employement</th>\n",
              "      <th>Incomes</th>\n",
              "      <th>Q1</th>\n",
              "      <th>Q2</th>\n",
              "      <th>Q3</th>\n",
              "      <th>Q4</th>\n",
              "      <th>Q5</th>\n",
              "      <th>Q6</th>\n",
              "      <th>Q7</th>\n",
              "    </tr>\n",
              "  </thead>\n",
              "  <tbody>\n",
              "    <tr>\n",
              "      <th>0</th>\n",
              "      <td>66</td>\n",
              "      <td>Male</td>\n",
              "      <td>Refused</td>\n",
              "      <td>Divorced</td>\n",
              "      <td>College graduate</td>\n",
              "      <td>Retired</td>\n",
              "      <td>$20,000 to under $30,000</td>\n",
              "      <td>97</td>\n",
              "      <td>Yes</td>\n",
              "      <td>No</td>\n",
              "      <td>Yes</td>\n",
              "      <td>Purchased the book</td>\n",
              "      <td>No</td>\n",
              "      <td>Yes</td>\n",
              "    </tr>\n",
              "    <tr>\n",
              "      <th>1</th>\n",
              "      <td>46</td>\n",
              "      <td>Male</td>\n",
              "      <td>Native American/American Indian</td>\n",
              "      <td>Married</td>\n",
              "      <td>High school graduate</td>\n",
              "      <td>Employed full-time</td>\n",
              "      <td>Less than $10,000</td>\n",
              "      <td>97</td>\n",
              "      <td>Yes</td>\n",
              "      <td>Yes</td>\n",
              "      <td>Yes</td>\n",
              "      <td>Purchased the book</td>\n",
              "      <td>Yes</td>\n",
              "      <td>Yes</td>\n",
              "    </tr>\n",
              "    <tr>\n",
              "      <th>2</th>\n",
              "      <td>32</td>\n",
              "      <td>Male</td>\n",
              "      <td>Mixed race</td>\n",
              "      <td>Never been married</td>\n",
              "      <td>High school graduate</td>\n",
              "      <td>Employed full-time</td>\n",
              "      <td>Less than $10,000</td>\n",
              "      <td>97</td>\n",
              "      <td>No</td>\n",
              "      <td>Yes</td>\n",
              "      <td>Yes</td>\n",
              "      <td>Borrowed the book from a friend or family member</td>\n",
              "      <td>Yes</td>\n",
              "      <td>Yes</td>\n",
              "    </tr>\n",
              "    <tr>\n",
              "      <th>3</th>\n",
              "      <td>27</td>\n",
              "      <td>Male</td>\n",
              "      <td>Mixed race</td>\n",
              "      <td>Married</td>\n",
              "      <td>High school graduate</td>\n",
              "      <td>Employed full-time</td>\n",
              "      <td>$40,000 to under $50,000</td>\n",
              "      <td>97</td>\n",
              "      <td>Yes</td>\n",
              "      <td>No</td>\n",
              "      <td>Yes</td>\n",
              "      <td>Borrowed the book from a library</td>\n",
              "      <td>Yes</td>\n",
              "      <td>No</td>\n",
              "    </tr>\n",
              "    <tr>\n",
              "      <th>4</th>\n",
              "      <td>16</td>\n",
              "      <td>Female</td>\n",
              "      <td>Mixed race</td>\n",
              "      <td>Never been married</td>\n",
              "      <td>High school incomplete</td>\n",
              "      <td>Employed part-time</td>\n",
              "      <td>$10,000 to under $20,000</td>\n",
              "      <td>97</td>\n",
              "      <td>Yes</td>\n",
              "      <td>Yes</td>\n",
              "      <td>No</td>\n",
              "      <td>Purchased the book</td>\n",
              "      <td>Yes</td>\n",
              "      <td>No</td>\n",
              "    </tr>\n",
              "    <tr>\n",
              "      <th>...</th>\n",
              "      <td>...</td>\n",
              "      <td>...</td>\n",
              "      <td>...</td>\n",
              "      <td>...</td>\n",
              "      <td>...</td>\n",
              "      <td>...</td>\n",
              "      <td>...</td>\n",
              "      <td>...</td>\n",
              "      <td>...</td>\n",
              "      <td>...</td>\n",
              "      <td>...</td>\n",
              "      <td>...</td>\n",
              "      <td>...</td>\n",
              "      <td>...</td>\n",
              "    </tr>\n",
              "    <tr>\n",
              "      <th>2827</th>\n",
              "      <td>18</td>\n",
              "      <td>Male</td>\n",
              "      <td>White</td>\n",
              "      <td>Never been married</td>\n",
              "      <td>High school graduate</td>\n",
              "      <td>Employed part-time</td>\n",
              "      <td>$75,000 to under $100,000</td>\n",
              "      <td>0</td>\n",
              "      <td>NaN</td>\n",
              "      <td>NaN</td>\n",
              "      <td>NaN</td>\n",
              "      <td>NaN</td>\n",
              "      <td>Yes</td>\n",
              "      <td>Yes</td>\n",
              "    </tr>\n",
              "    <tr>\n",
              "      <th>2828</th>\n",
              "      <td>17</td>\n",
              "      <td>Male</td>\n",
              "      <td>White</td>\n",
              "      <td>Never been married</td>\n",
              "      <td>High school incomplete</td>\n",
              "      <td>Employed part-time</td>\n",
              "      <td>$30,000 to under $40,000</td>\n",
              "      <td>0</td>\n",
              "      <td>NaN</td>\n",
              "      <td>NaN</td>\n",
              "      <td>NaN</td>\n",
              "      <td>NaN</td>\n",
              "      <td>Yes</td>\n",
              "      <td>No</td>\n",
              "    </tr>\n",
              "    <tr>\n",
              "      <th>2829</th>\n",
              "      <td>17</td>\n",
              "      <td>Female</td>\n",
              "      <td>White</td>\n",
              "      <td>Never been married</td>\n",
              "      <td>High school incomplete</td>\n",
              "      <td>Not employed for pay</td>\n",
              "      <td>9$100,000 to under $150,000</td>\n",
              "      <td>0</td>\n",
              "      <td>NaN</td>\n",
              "      <td>NaN</td>\n",
              "      <td>NaN</td>\n",
              "      <td>NaN</td>\n",
              "      <td>No</td>\n",
              "      <td>Yes</td>\n",
              "    </tr>\n",
              "    <tr>\n",
              "      <th>2830</th>\n",
              "      <td>16</td>\n",
              "      <td>Male</td>\n",
              "      <td>White</td>\n",
              "      <td>Never been married</td>\n",
              "      <td>High school graduate</td>\n",
              "      <td>Not employed for pay</td>\n",
              "      <td>9$100,000 to under $150,000</td>\n",
              "      <td>0</td>\n",
              "      <td>NaN</td>\n",
              "      <td>NaN</td>\n",
              "      <td>NaN</td>\n",
              "      <td>NaN</td>\n",
              "      <td>No</td>\n",
              "      <td>No</td>\n",
              "    </tr>\n",
              "    <tr>\n",
              "      <th>2831</th>\n",
              "      <td>16</td>\n",
              "      <td>Male</td>\n",
              "      <td>White</td>\n",
              "      <td>Never been married</td>\n",
              "      <td>Don’t know</td>\n",
              "      <td>Not employed for pay</td>\n",
              "      <td>Refused</td>\n",
              "      <td>0</td>\n",
              "      <td>NaN</td>\n",
              "      <td>NaN</td>\n",
              "      <td>NaN</td>\n",
              "      <td>NaN</td>\n",
              "      <td>No</td>\n",
              "      <td>No</td>\n",
              "    </tr>\n",
              "  </tbody>\n",
              "</table>\n",
              "<p>2832 rows × 14 columns</p>\n",
              "</div>\n",
              "      <button class=\"colab-df-convert\" onclick=\"convertToInteractive('df-d2ebcaa3-deb0-4c5b-abbf-9f5b7a5326c1')\"\n",
              "              title=\"Convert this dataframe to an interactive table.\"\n",
              "              style=\"display:none;\">\n",
              "        \n",
              "  <svg xmlns=\"http://www.w3.org/2000/svg\" height=\"24px\"viewBox=\"0 0 24 24\"\n",
              "       width=\"24px\">\n",
              "    <path d=\"M0 0h24v24H0V0z\" fill=\"none\"/>\n",
              "    <path d=\"M18.56 5.44l.94 2.06.94-2.06 2.06-.94-2.06-.94-.94-2.06-.94 2.06-2.06.94zm-11 1L8.5 8.5l.94-2.06 2.06-.94-2.06-.94L8.5 2.5l-.94 2.06-2.06.94zm10 10l.94 2.06.94-2.06 2.06-.94-2.06-.94-.94-2.06-.94 2.06-2.06.94z\"/><path d=\"M17.41 7.96l-1.37-1.37c-.4-.4-.92-.59-1.43-.59-.52 0-1.04.2-1.43.59L10.3 9.45l-7.72 7.72c-.78.78-.78 2.05 0 2.83L4 21.41c.39.39.9.59 1.41.59.51 0 1.02-.2 1.41-.59l7.78-7.78 2.81-2.81c.8-.78.8-2.07 0-2.86zM5.41 20L4 18.59l7.72-7.72 1.47 1.35L5.41 20z\"/>\n",
              "  </svg>\n",
              "      </button>\n",
              "      \n",
              "  <style>\n",
              "    .colab-df-container {\n",
              "      display:flex;\n",
              "      flex-wrap:wrap;\n",
              "      gap: 12px;\n",
              "    }\n",
              "\n",
              "    .colab-df-convert {\n",
              "      background-color: #E8F0FE;\n",
              "      border: none;\n",
              "      border-radius: 50%;\n",
              "      cursor: pointer;\n",
              "      display: none;\n",
              "      fill: #1967D2;\n",
              "      height: 32px;\n",
              "      padding: 0 0 0 0;\n",
              "      width: 32px;\n",
              "    }\n",
              "\n",
              "    .colab-df-convert:hover {\n",
              "      background-color: #E2EBFA;\n",
              "      box-shadow: 0px 1px 2px rgba(60, 64, 67, 0.3), 0px 1px 3px 1px rgba(60, 64, 67, 0.15);\n",
              "      fill: #174EA6;\n",
              "    }\n",
              "\n",
              "    [theme=dark] .colab-df-convert {\n",
              "      background-color: #3B4455;\n",
              "      fill: #D2E3FC;\n",
              "    }\n",
              "\n",
              "    [theme=dark] .colab-df-convert:hover {\n",
              "      background-color: #434B5C;\n",
              "      box-shadow: 0px 1px 3px 1px rgba(0, 0, 0, 0.15);\n",
              "      filter: drop-shadow(0px 1px 2px rgba(0, 0, 0, 0.3));\n",
              "      fill: #FFFFFF;\n",
              "    }\n",
              "  </style>\n",
              "\n",
              "      <script>\n",
              "        const buttonEl =\n",
              "          document.querySelector('#df-d2ebcaa3-deb0-4c5b-abbf-9f5b7a5326c1 button.colab-df-convert');\n",
              "        buttonEl.style.display =\n",
              "          google.colab.kernel.accessAllowed ? 'block' : 'none';\n",
              "\n",
              "        async function convertToInteractive(key) {\n",
              "          const element = document.querySelector('#df-d2ebcaa3-deb0-4c5b-abbf-9f5b7a5326c1');\n",
              "          const dataTable =\n",
              "            await google.colab.kernel.invokeFunction('convertToInteractive',\n",
              "                                                     [key], {});\n",
              "          if (!dataTable) return;\n",
              "\n",
              "          const docLinkHtml = 'Like what you see? Visit the ' +\n",
              "            '<a target=\"_blank\" href=https://colab.research.google.com/notebooks/data_table.ipynb>data table notebook</a>'\n",
              "            + ' to learn more about interactive tables.';\n",
              "          element.innerHTML = '';\n",
              "          dataTable['output_type'] = 'display_data';\n",
              "          await google.colab.output.renderOutput(dataTable, element);\n",
              "          const docLink = document.createElement('div');\n",
              "          docLink.innerHTML = docLinkHtml;\n",
              "          element.appendChild(docLink);\n",
              "        }\n",
              "      </script>\n",
              "    </div>\n",
              "  </div>\n",
              "  "
            ]
          },
          "metadata": {},
          "execution_count": 9
        }
      ]
    },
    {
      "cell_type": "markdown",
      "source": [
        "## Datenbereinigung und -aufbereitung/Data Cleaning and Preparation"
      ],
      "metadata": {
        "id": "bSLiOvEAFmSr"
      }
    },
    {
      "cell_type": "markdown",
      "source": [
        "Einige Daten in der Tabelle wurden von den Befragten nicht beantwortet und als \"Refused\" oder \"Don't know\" eingetreten. Zeilen mit diesen Informationen werden gelöscht."
      ],
      "metadata": {
        "id": "T_ow6LPDGJfP"
      }
    },
    {
      "cell_type": "code",
      "source": [
        "for col in df.columns:\n",
        "    df = df[df[col] != \"Refused\"]"
      ],
      "metadata": {
        "id": "m6I0LqZ7TTU5"
      },
      "execution_count": 10,
      "outputs": []
    },
    {
      "cell_type": "code",
      "source": [
        "for col in df.columns:\n",
        "    df = df[df[col] != \"Don’t know\"]"
      ],
      "metadata": {
        "id": "IQSFRlXadzNs"
      },
      "execution_count": 11,
      "outputs": []
    },
    {
      "cell_type": "code",
      "source": [
        "df"
      ],
      "metadata": {
        "colab": {
          "base_uri": "https://localhost:8080/",
          "height": 658
        },
        "id": "OnsiVubgdzh8",
        "outputId": "2b11045c-15e2-48c6-e837-74c3f9823152"
      },
      "execution_count": 12,
      "outputs": [
        {
          "output_type": "execute_result",
          "data": {
            "text/plain": [
              "      Age     Sex                             Race      Marital status  \\\n",
              "1      46    Male  Native American/American Indian             Married   \n",
              "2      32    Male                       Mixed race  Never been married   \n",
              "3      27    Male                       Mixed race             Married   \n",
              "4      16  Female                       Mixed race  Never been married   \n",
              "5      55  Female        Asian or Pacific Islander            Divorced   \n",
              "...   ...     ...                              ...                 ...   \n",
              "2826   18    Male                            White  Never been married   \n",
              "2827   18    Male                            White  Never been married   \n",
              "2828   17    Male                            White  Never been married   \n",
              "2829   17  Female                            White  Never been married   \n",
              "2830   16    Male                            White  Never been married   \n",
              "\n",
              "                           Education                      Employement  \\\n",
              "1               High school graduate               Employed full-time   \n",
              "2               High school graduate               Employed full-time   \n",
              "3               High school graduate               Employed full-time   \n",
              "4             High school incomplete               Employed part-time   \n",
              "5     Some college, no 4-year degree  Have own business/self-employed   \n",
              "...                              ...                              ...   \n",
              "2826          High school incomplete             Not employed for pay   \n",
              "2827            High school graduate               Employed part-time   \n",
              "2828          High school incomplete               Employed part-time   \n",
              "2829          High school incomplete             Not employed for pay   \n",
              "2830            High school graduate             Not employed for pay   \n",
              "\n",
              "                          Incomes  Q1   Q2   Q3   Q4  \\\n",
              "1               Less than $10,000  97  Yes  Yes  Yes   \n",
              "2               Less than $10,000  97   No  Yes  Yes   \n",
              "3        $40,000 to under $50,000  97  Yes   No  Yes   \n",
              "4        $10,000 to under $20,000  97  Yes  Yes   No   \n",
              "5        $40,000 to under $50,000  97  Yes  Yes  Yes   \n",
              "...                           ...  ..  ...  ...  ...   \n",
              "2826            Less than $10,000   0  NaN  NaN  NaN   \n",
              "2827    $75,000 to under $100,000   0  NaN  NaN  NaN   \n",
              "2828     $30,000 to under $40,000   0  NaN  NaN  NaN   \n",
              "2829  9$100,000 to under $150,000   0  NaN  NaN  NaN   \n",
              "2830  9$100,000 to under $150,000   0  NaN  NaN  NaN   \n",
              "\n",
              "                                                    Q5   Q6   Q7  \n",
              "1                                   Purchased the book  Yes  Yes  \n",
              "2     Borrowed the book from a friend or family member  Yes  Yes  \n",
              "3                     Borrowed the book from a library  Yes   No  \n",
              "4                                   Purchased the book  Yes   No  \n",
              "5                                   Purchased the book   No   No  \n",
              "...                                                ...  ...  ...  \n",
              "2826                                               NaN   No   No  \n",
              "2827                                               NaN  Yes  Yes  \n",
              "2828                                               NaN  Yes   No  \n",
              "2829                                               NaN   No  Yes  \n",
              "2830                                               NaN   No   No  \n",
              "\n",
              "[2476 rows x 14 columns]"
            ],
            "text/html": [
              "\n",
              "  <div id=\"df-8708417e-de36-42db-ac52-f20098467ae8\">\n",
              "    <div class=\"colab-df-container\">\n",
              "      <div>\n",
              "<style scoped>\n",
              "    .dataframe tbody tr th:only-of-type {\n",
              "        vertical-align: middle;\n",
              "    }\n",
              "\n",
              "    .dataframe tbody tr th {\n",
              "        vertical-align: top;\n",
              "    }\n",
              "\n",
              "    .dataframe thead th {\n",
              "        text-align: right;\n",
              "    }\n",
              "</style>\n",
              "<table border=\"1\" class=\"dataframe\">\n",
              "  <thead>\n",
              "    <tr style=\"text-align: right;\">\n",
              "      <th></th>\n",
              "      <th>Age</th>\n",
              "      <th>Sex</th>\n",
              "      <th>Race</th>\n",
              "      <th>Marital status</th>\n",
              "      <th>Education</th>\n",
              "      <th>Employement</th>\n",
              "      <th>Incomes</th>\n",
              "      <th>Q1</th>\n",
              "      <th>Q2</th>\n",
              "      <th>Q3</th>\n",
              "      <th>Q4</th>\n",
              "      <th>Q5</th>\n",
              "      <th>Q6</th>\n",
              "      <th>Q7</th>\n",
              "    </tr>\n",
              "  </thead>\n",
              "  <tbody>\n",
              "    <tr>\n",
              "      <th>1</th>\n",
              "      <td>46</td>\n",
              "      <td>Male</td>\n",
              "      <td>Native American/American Indian</td>\n",
              "      <td>Married</td>\n",
              "      <td>High school graduate</td>\n",
              "      <td>Employed full-time</td>\n",
              "      <td>Less than $10,000</td>\n",
              "      <td>97</td>\n",
              "      <td>Yes</td>\n",
              "      <td>Yes</td>\n",
              "      <td>Yes</td>\n",
              "      <td>Purchased the book</td>\n",
              "      <td>Yes</td>\n",
              "      <td>Yes</td>\n",
              "    </tr>\n",
              "    <tr>\n",
              "      <th>2</th>\n",
              "      <td>32</td>\n",
              "      <td>Male</td>\n",
              "      <td>Mixed race</td>\n",
              "      <td>Never been married</td>\n",
              "      <td>High school graduate</td>\n",
              "      <td>Employed full-time</td>\n",
              "      <td>Less than $10,000</td>\n",
              "      <td>97</td>\n",
              "      <td>No</td>\n",
              "      <td>Yes</td>\n",
              "      <td>Yes</td>\n",
              "      <td>Borrowed the book from a friend or family member</td>\n",
              "      <td>Yes</td>\n",
              "      <td>Yes</td>\n",
              "    </tr>\n",
              "    <tr>\n",
              "      <th>3</th>\n",
              "      <td>27</td>\n",
              "      <td>Male</td>\n",
              "      <td>Mixed race</td>\n",
              "      <td>Married</td>\n",
              "      <td>High school graduate</td>\n",
              "      <td>Employed full-time</td>\n",
              "      <td>$40,000 to under $50,000</td>\n",
              "      <td>97</td>\n",
              "      <td>Yes</td>\n",
              "      <td>No</td>\n",
              "      <td>Yes</td>\n",
              "      <td>Borrowed the book from a library</td>\n",
              "      <td>Yes</td>\n",
              "      <td>No</td>\n",
              "    </tr>\n",
              "    <tr>\n",
              "      <th>4</th>\n",
              "      <td>16</td>\n",
              "      <td>Female</td>\n",
              "      <td>Mixed race</td>\n",
              "      <td>Never been married</td>\n",
              "      <td>High school incomplete</td>\n",
              "      <td>Employed part-time</td>\n",
              "      <td>$10,000 to under $20,000</td>\n",
              "      <td>97</td>\n",
              "      <td>Yes</td>\n",
              "      <td>Yes</td>\n",
              "      <td>No</td>\n",
              "      <td>Purchased the book</td>\n",
              "      <td>Yes</td>\n",
              "      <td>No</td>\n",
              "    </tr>\n",
              "    <tr>\n",
              "      <th>5</th>\n",
              "      <td>55</td>\n",
              "      <td>Female</td>\n",
              "      <td>Asian or Pacific Islander</td>\n",
              "      <td>Divorced</td>\n",
              "      <td>Some college, no 4-year degree</td>\n",
              "      <td>Have own business/self-employed</td>\n",
              "      <td>$40,000 to under $50,000</td>\n",
              "      <td>97</td>\n",
              "      <td>Yes</td>\n",
              "      <td>Yes</td>\n",
              "      <td>Yes</td>\n",
              "      <td>Purchased the book</td>\n",
              "      <td>No</td>\n",
              "      <td>No</td>\n",
              "    </tr>\n",
              "    <tr>\n",
              "      <th>...</th>\n",
              "      <td>...</td>\n",
              "      <td>...</td>\n",
              "      <td>...</td>\n",
              "      <td>...</td>\n",
              "      <td>...</td>\n",
              "      <td>...</td>\n",
              "      <td>...</td>\n",
              "      <td>...</td>\n",
              "      <td>...</td>\n",
              "      <td>...</td>\n",
              "      <td>...</td>\n",
              "      <td>...</td>\n",
              "      <td>...</td>\n",
              "      <td>...</td>\n",
              "    </tr>\n",
              "    <tr>\n",
              "      <th>2826</th>\n",
              "      <td>18</td>\n",
              "      <td>Male</td>\n",
              "      <td>White</td>\n",
              "      <td>Never been married</td>\n",
              "      <td>High school incomplete</td>\n",
              "      <td>Not employed for pay</td>\n",
              "      <td>Less than $10,000</td>\n",
              "      <td>0</td>\n",
              "      <td>NaN</td>\n",
              "      <td>NaN</td>\n",
              "      <td>NaN</td>\n",
              "      <td>NaN</td>\n",
              "      <td>No</td>\n",
              "      <td>No</td>\n",
              "    </tr>\n",
              "    <tr>\n",
              "      <th>2827</th>\n",
              "      <td>18</td>\n",
              "      <td>Male</td>\n",
              "      <td>White</td>\n",
              "      <td>Never been married</td>\n",
              "      <td>High school graduate</td>\n",
              "      <td>Employed part-time</td>\n",
              "      <td>$75,000 to under $100,000</td>\n",
              "      <td>0</td>\n",
              "      <td>NaN</td>\n",
              "      <td>NaN</td>\n",
              "      <td>NaN</td>\n",
              "      <td>NaN</td>\n",
              "      <td>Yes</td>\n",
              "      <td>Yes</td>\n",
              "    </tr>\n",
              "    <tr>\n",
              "      <th>2828</th>\n",
              "      <td>17</td>\n",
              "      <td>Male</td>\n",
              "      <td>White</td>\n",
              "      <td>Never been married</td>\n",
              "      <td>High school incomplete</td>\n",
              "      <td>Employed part-time</td>\n",
              "      <td>$30,000 to under $40,000</td>\n",
              "      <td>0</td>\n",
              "      <td>NaN</td>\n",
              "      <td>NaN</td>\n",
              "      <td>NaN</td>\n",
              "      <td>NaN</td>\n",
              "      <td>Yes</td>\n",
              "      <td>No</td>\n",
              "    </tr>\n",
              "    <tr>\n",
              "      <th>2829</th>\n",
              "      <td>17</td>\n",
              "      <td>Female</td>\n",
              "      <td>White</td>\n",
              "      <td>Never been married</td>\n",
              "      <td>High school incomplete</td>\n",
              "      <td>Not employed for pay</td>\n",
              "      <td>9$100,000 to under $150,000</td>\n",
              "      <td>0</td>\n",
              "      <td>NaN</td>\n",
              "      <td>NaN</td>\n",
              "      <td>NaN</td>\n",
              "      <td>NaN</td>\n",
              "      <td>No</td>\n",
              "      <td>Yes</td>\n",
              "    </tr>\n",
              "    <tr>\n",
              "      <th>2830</th>\n",
              "      <td>16</td>\n",
              "      <td>Male</td>\n",
              "      <td>White</td>\n",
              "      <td>Never been married</td>\n",
              "      <td>High school graduate</td>\n",
              "      <td>Not employed for pay</td>\n",
              "      <td>9$100,000 to under $150,000</td>\n",
              "      <td>0</td>\n",
              "      <td>NaN</td>\n",
              "      <td>NaN</td>\n",
              "      <td>NaN</td>\n",
              "      <td>NaN</td>\n",
              "      <td>No</td>\n",
              "      <td>No</td>\n",
              "    </tr>\n",
              "  </tbody>\n",
              "</table>\n",
              "<p>2476 rows × 14 columns</p>\n",
              "</div>\n",
              "      <button class=\"colab-df-convert\" onclick=\"convertToInteractive('df-8708417e-de36-42db-ac52-f20098467ae8')\"\n",
              "              title=\"Convert this dataframe to an interactive table.\"\n",
              "              style=\"display:none;\">\n",
              "        \n",
              "  <svg xmlns=\"http://www.w3.org/2000/svg\" height=\"24px\"viewBox=\"0 0 24 24\"\n",
              "       width=\"24px\">\n",
              "    <path d=\"M0 0h24v24H0V0z\" fill=\"none\"/>\n",
              "    <path d=\"M18.56 5.44l.94 2.06.94-2.06 2.06-.94-2.06-.94-.94-2.06-.94 2.06-2.06.94zm-11 1L8.5 8.5l.94-2.06 2.06-.94-2.06-.94L8.5 2.5l-.94 2.06-2.06.94zm10 10l.94 2.06.94-2.06 2.06-.94-2.06-.94-.94-2.06-.94 2.06-2.06.94z\"/><path d=\"M17.41 7.96l-1.37-1.37c-.4-.4-.92-.59-1.43-.59-.52 0-1.04.2-1.43.59L10.3 9.45l-7.72 7.72c-.78.78-.78 2.05 0 2.83L4 21.41c.39.39.9.59 1.41.59.51 0 1.02-.2 1.41-.59l7.78-7.78 2.81-2.81c.8-.78.8-2.07 0-2.86zM5.41 20L4 18.59l7.72-7.72 1.47 1.35L5.41 20z\"/>\n",
              "  </svg>\n",
              "      </button>\n",
              "      \n",
              "  <style>\n",
              "    .colab-df-container {\n",
              "      display:flex;\n",
              "      flex-wrap:wrap;\n",
              "      gap: 12px;\n",
              "    }\n",
              "\n",
              "    .colab-df-convert {\n",
              "      background-color: #E8F0FE;\n",
              "      border: none;\n",
              "      border-radius: 50%;\n",
              "      cursor: pointer;\n",
              "      display: none;\n",
              "      fill: #1967D2;\n",
              "      height: 32px;\n",
              "      padding: 0 0 0 0;\n",
              "      width: 32px;\n",
              "    }\n",
              "\n",
              "    .colab-df-convert:hover {\n",
              "      background-color: #E2EBFA;\n",
              "      box-shadow: 0px 1px 2px rgba(60, 64, 67, 0.3), 0px 1px 3px 1px rgba(60, 64, 67, 0.15);\n",
              "      fill: #174EA6;\n",
              "    }\n",
              "\n",
              "    [theme=dark] .colab-df-convert {\n",
              "      background-color: #3B4455;\n",
              "      fill: #D2E3FC;\n",
              "    }\n",
              "\n",
              "    [theme=dark] .colab-df-convert:hover {\n",
              "      background-color: #434B5C;\n",
              "      box-shadow: 0px 1px 3px 1px rgba(0, 0, 0, 0.15);\n",
              "      filter: drop-shadow(0px 1px 2px rgba(0, 0, 0, 0.3));\n",
              "      fill: #FFFFFF;\n",
              "    }\n",
              "  </style>\n",
              "\n",
              "      <script>\n",
              "        const buttonEl =\n",
              "          document.querySelector('#df-8708417e-de36-42db-ac52-f20098467ae8 button.colab-df-convert');\n",
              "        buttonEl.style.display =\n",
              "          google.colab.kernel.accessAllowed ? 'block' : 'none';\n",
              "\n",
              "        async function convertToInteractive(key) {\n",
              "          const element = document.querySelector('#df-8708417e-de36-42db-ac52-f20098467ae8');\n",
              "          const dataTable =\n",
              "            await google.colab.kernel.invokeFunction('convertToInteractive',\n",
              "                                                     [key], {});\n",
              "          if (!dataTable) return;\n",
              "\n",
              "          const docLinkHtml = 'Like what you see? Visit the ' +\n",
              "            '<a target=\"_blank\" href=https://colab.research.google.com/notebooks/data_table.ipynb>data table notebook</a>'\n",
              "            + ' to learn more about interactive tables.';\n",
              "          element.innerHTML = '';\n",
              "          dataTable['output_type'] = 'display_data';\n",
              "          await google.colab.output.renderOutput(dataTable, element);\n",
              "          const docLink = document.createElement('div');\n",
              "          docLink.innerHTML = docLinkHtml;\n",
              "          element.appendChild(docLink);\n",
              "        }\n",
              "      </script>\n",
              "    </div>\n",
              "  </div>\n",
              "  "
            ]
          },
          "metadata": {},
          "execution_count": 12
        }
      ]
    },
    {
      "cell_type": "markdown",
      "source": [
        "Diejenigen, die in den letzten 12 Monaten kein Buch gelesen haben, haben einige Fragen nicht antworten. Es wird bevorzugt, \"-\" anstelle von NaN-Werten einzugeben."
      ],
      "metadata": {
        "id": "oBmvyux7L_uj"
      }
    },
    {
      "cell_type": "code",
      "source": [
        "df = df.fillna(\"-\")"
      ],
      "metadata": {
        "id": "6sK_7fsHqUUi"
      },
      "execution_count": 13,
      "outputs": []
    },
    {
      "cell_type": "markdown",
      "source": [
        "Einige falsch eingegebene Daten wurden korrigiert."
      ],
      "metadata": {
        "id": "_b94Zkw7Mi2z"
      }
    },
    {
      "cell_type": "code",
      "source": [
        "df[\"Incomes\"].value_counts()"
      ],
      "metadata": {
        "colab": {
          "base_uri": "https://localhost:8080/"
        },
        "id": "zEhnRbHZl2nw",
        "outputId": "857d3c05-c48e-4dc3-bc3e-3473796ac6a9"
      },
      "execution_count": 14,
      "outputs": [
        {
          "output_type": "execute_result",
          "data": {
            "text/plain": [
              "$100,000 to under $150,000     517\n",
              "$50,000 to under $75,000       383\n",
              "$75,000 to under $100,000      308\n",
              "$30,000 to under $40,000       261\n",
              "$20,000 to under $30,000       235\n",
              "$10,000 to under $20,000       213\n",
              "9$100,000 to under $150,000    203\n",
              "$40,000 to under $50,000       201\n",
              "Less than $10,000              155\n",
              "Name: Incomes, dtype: int64"
            ]
          },
          "metadata": {},
          "execution_count": 14
        }
      ]
    },
    {
      "cell_type": "code",
      "source": [
        "df[\"Incomes\"] = df[\"Incomes\"].replace(\"9$100,000 to under $150,000\", \"$100,000 to under $150,000\")"
      ],
      "metadata": {
        "id": "Ms2omtEosCxY"
      },
      "execution_count": 15,
      "outputs": []
    },
    {
      "cell_type": "code",
      "source": [
        "df[\"Q5\"].value_counts()"
      ],
      "metadata": {
        "colab": {
          "base_uri": "https://localhost:8080/"
        },
        "id": "_Fx85iAuoBoo",
        "outputId": "a615a9af-360f-45d6-a79b-e31cdad3663b"
      },
      "execution_count": 16,
      "outputs": [
        {
          "output_type": "execute_result",
          "data": {
            "text/plain": [
              "Purchased the book                                  1118\n",
              "Borrowed the book from a friend or family member     441\n",
              "-                                                    342\n",
              "Borrowed the book from a library                     276\n",
              "Got the book some other way                          272\n",
              "8                                                     22\n",
              "9                                                      5\n",
              "Name: Q5, dtype: int64"
            ]
          },
          "metadata": {},
          "execution_count": 16
        }
      ]
    },
    {
      "cell_type": "code",
      "source": [
        "index_to_drop = df[df['Q5'] == \"8\"].index\n",
        "df = df.drop(index_to_drop)\n",
        "\n",
        "index_to_drop = df[df['Q5'] == \"9\"].index\n",
        "df = df.drop(index_to_drop)"
      ],
      "metadata": {
        "id": "xobnk9E6t1ep"
      },
      "execution_count": 17,
      "outputs": []
    },
    {
      "cell_type": "code",
      "source": [
        "index_to_drop = df[df['Education'] == \"None\"].index\n",
        "df = df.drop(index_to_drop)"
      ],
      "metadata": {
        "id": "Pk4zeUXbkFX7"
      },
      "execution_count": 18,
      "outputs": []
    },
    {
      "cell_type": "code",
      "source": [
        "df"
      ],
      "metadata": {
        "colab": {
          "base_uri": "https://localhost:8080/",
          "height": 658
        },
        "id": "gM4FUTpjMuTH",
        "outputId": "c096aad6-efc8-45e2-c31f-4f50042dc8dc"
      },
      "execution_count": 19,
      "outputs": [
        {
          "output_type": "execute_result",
          "data": {
            "text/plain": [
              "      Age     Sex                             Race      Marital status  \\\n",
              "1      46    Male  Native American/American Indian             Married   \n",
              "2      32    Male                       Mixed race  Never been married   \n",
              "3      27    Male                       Mixed race             Married   \n",
              "4      16  Female                       Mixed race  Never been married   \n",
              "5      55  Female        Asian or Pacific Islander            Divorced   \n",
              "...   ...     ...                              ...                 ...   \n",
              "2826   18    Male                            White  Never been married   \n",
              "2827   18    Male                            White  Never been married   \n",
              "2828   17    Male                            White  Never been married   \n",
              "2829   17  Female                            White  Never been married   \n",
              "2830   16    Male                            White  Never been married   \n",
              "\n",
              "                           Education                      Employement  \\\n",
              "1               High school graduate               Employed full-time   \n",
              "2               High school graduate               Employed full-time   \n",
              "3               High school graduate               Employed full-time   \n",
              "4             High school incomplete               Employed part-time   \n",
              "5     Some college, no 4-year degree  Have own business/self-employed   \n",
              "...                              ...                              ...   \n",
              "2826          High school incomplete             Not employed for pay   \n",
              "2827            High school graduate               Employed part-time   \n",
              "2828          High school incomplete               Employed part-time   \n",
              "2829          High school incomplete             Not employed for pay   \n",
              "2830            High school graduate             Not employed for pay   \n",
              "\n",
              "                         Incomes  Q1   Q2   Q3   Q4  \\\n",
              "1              Less than $10,000  97  Yes  Yes  Yes   \n",
              "2              Less than $10,000  97   No  Yes  Yes   \n",
              "3       $40,000 to under $50,000  97  Yes   No  Yes   \n",
              "4       $10,000 to under $20,000  97  Yes  Yes   No   \n",
              "5       $40,000 to under $50,000  97  Yes  Yes  Yes   \n",
              "...                          ...  ..  ...  ...  ...   \n",
              "2826           Less than $10,000   0    -    -    -   \n",
              "2827   $75,000 to under $100,000   0    -    -    -   \n",
              "2828    $30,000 to under $40,000   0    -    -    -   \n",
              "2829  $100,000 to under $150,000   0    -    -    -   \n",
              "2830  $100,000 to under $150,000   0    -    -    -   \n",
              "\n",
              "                                                    Q5   Q6   Q7  \n",
              "1                                   Purchased the book  Yes  Yes  \n",
              "2     Borrowed the book from a friend or family member  Yes  Yes  \n",
              "3                     Borrowed the book from a library  Yes   No  \n",
              "4                                   Purchased the book  Yes   No  \n",
              "5                                   Purchased the book   No   No  \n",
              "...                                                ...  ...  ...  \n",
              "2826                                                 -   No   No  \n",
              "2827                                                 -  Yes  Yes  \n",
              "2828                                                 -  Yes   No  \n",
              "2829                                                 -   No  Yes  \n",
              "2830                                                 -   No   No  \n",
              "\n",
              "[2400 rows x 14 columns]"
            ],
            "text/html": [
              "\n",
              "  <div id=\"df-53f47eb4-9351-4f8d-b5ac-697dadc802e7\">\n",
              "    <div class=\"colab-df-container\">\n",
              "      <div>\n",
              "<style scoped>\n",
              "    .dataframe tbody tr th:only-of-type {\n",
              "        vertical-align: middle;\n",
              "    }\n",
              "\n",
              "    .dataframe tbody tr th {\n",
              "        vertical-align: top;\n",
              "    }\n",
              "\n",
              "    .dataframe thead th {\n",
              "        text-align: right;\n",
              "    }\n",
              "</style>\n",
              "<table border=\"1\" class=\"dataframe\">\n",
              "  <thead>\n",
              "    <tr style=\"text-align: right;\">\n",
              "      <th></th>\n",
              "      <th>Age</th>\n",
              "      <th>Sex</th>\n",
              "      <th>Race</th>\n",
              "      <th>Marital status</th>\n",
              "      <th>Education</th>\n",
              "      <th>Employement</th>\n",
              "      <th>Incomes</th>\n",
              "      <th>Q1</th>\n",
              "      <th>Q2</th>\n",
              "      <th>Q3</th>\n",
              "      <th>Q4</th>\n",
              "      <th>Q5</th>\n",
              "      <th>Q6</th>\n",
              "      <th>Q7</th>\n",
              "    </tr>\n",
              "  </thead>\n",
              "  <tbody>\n",
              "    <tr>\n",
              "      <th>1</th>\n",
              "      <td>46</td>\n",
              "      <td>Male</td>\n",
              "      <td>Native American/American Indian</td>\n",
              "      <td>Married</td>\n",
              "      <td>High school graduate</td>\n",
              "      <td>Employed full-time</td>\n",
              "      <td>Less than $10,000</td>\n",
              "      <td>97</td>\n",
              "      <td>Yes</td>\n",
              "      <td>Yes</td>\n",
              "      <td>Yes</td>\n",
              "      <td>Purchased the book</td>\n",
              "      <td>Yes</td>\n",
              "      <td>Yes</td>\n",
              "    </tr>\n",
              "    <tr>\n",
              "      <th>2</th>\n",
              "      <td>32</td>\n",
              "      <td>Male</td>\n",
              "      <td>Mixed race</td>\n",
              "      <td>Never been married</td>\n",
              "      <td>High school graduate</td>\n",
              "      <td>Employed full-time</td>\n",
              "      <td>Less than $10,000</td>\n",
              "      <td>97</td>\n",
              "      <td>No</td>\n",
              "      <td>Yes</td>\n",
              "      <td>Yes</td>\n",
              "      <td>Borrowed the book from a friend or family member</td>\n",
              "      <td>Yes</td>\n",
              "      <td>Yes</td>\n",
              "    </tr>\n",
              "    <tr>\n",
              "      <th>3</th>\n",
              "      <td>27</td>\n",
              "      <td>Male</td>\n",
              "      <td>Mixed race</td>\n",
              "      <td>Married</td>\n",
              "      <td>High school graduate</td>\n",
              "      <td>Employed full-time</td>\n",
              "      <td>$40,000 to under $50,000</td>\n",
              "      <td>97</td>\n",
              "      <td>Yes</td>\n",
              "      <td>No</td>\n",
              "      <td>Yes</td>\n",
              "      <td>Borrowed the book from a library</td>\n",
              "      <td>Yes</td>\n",
              "      <td>No</td>\n",
              "    </tr>\n",
              "    <tr>\n",
              "      <th>4</th>\n",
              "      <td>16</td>\n",
              "      <td>Female</td>\n",
              "      <td>Mixed race</td>\n",
              "      <td>Never been married</td>\n",
              "      <td>High school incomplete</td>\n",
              "      <td>Employed part-time</td>\n",
              "      <td>$10,000 to under $20,000</td>\n",
              "      <td>97</td>\n",
              "      <td>Yes</td>\n",
              "      <td>Yes</td>\n",
              "      <td>No</td>\n",
              "      <td>Purchased the book</td>\n",
              "      <td>Yes</td>\n",
              "      <td>No</td>\n",
              "    </tr>\n",
              "    <tr>\n",
              "      <th>5</th>\n",
              "      <td>55</td>\n",
              "      <td>Female</td>\n",
              "      <td>Asian or Pacific Islander</td>\n",
              "      <td>Divorced</td>\n",
              "      <td>Some college, no 4-year degree</td>\n",
              "      <td>Have own business/self-employed</td>\n",
              "      <td>$40,000 to under $50,000</td>\n",
              "      <td>97</td>\n",
              "      <td>Yes</td>\n",
              "      <td>Yes</td>\n",
              "      <td>Yes</td>\n",
              "      <td>Purchased the book</td>\n",
              "      <td>No</td>\n",
              "      <td>No</td>\n",
              "    </tr>\n",
              "    <tr>\n",
              "      <th>...</th>\n",
              "      <td>...</td>\n",
              "      <td>...</td>\n",
              "      <td>...</td>\n",
              "      <td>...</td>\n",
              "      <td>...</td>\n",
              "      <td>...</td>\n",
              "      <td>...</td>\n",
              "      <td>...</td>\n",
              "      <td>...</td>\n",
              "      <td>...</td>\n",
              "      <td>...</td>\n",
              "      <td>...</td>\n",
              "      <td>...</td>\n",
              "      <td>...</td>\n",
              "    </tr>\n",
              "    <tr>\n",
              "      <th>2826</th>\n",
              "      <td>18</td>\n",
              "      <td>Male</td>\n",
              "      <td>White</td>\n",
              "      <td>Never been married</td>\n",
              "      <td>High school incomplete</td>\n",
              "      <td>Not employed for pay</td>\n",
              "      <td>Less than $10,000</td>\n",
              "      <td>0</td>\n",
              "      <td>-</td>\n",
              "      <td>-</td>\n",
              "      <td>-</td>\n",
              "      <td>-</td>\n",
              "      <td>No</td>\n",
              "      <td>No</td>\n",
              "    </tr>\n",
              "    <tr>\n",
              "      <th>2827</th>\n",
              "      <td>18</td>\n",
              "      <td>Male</td>\n",
              "      <td>White</td>\n",
              "      <td>Never been married</td>\n",
              "      <td>High school graduate</td>\n",
              "      <td>Employed part-time</td>\n",
              "      <td>$75,000 to under $100,000</td>\n",
              "      <td>0</td>\n",
              "      <td>-</td>\n",
              "      <td>-</td>\n",
              "      <td>-</td>\n",
              "      <td>-</td>\n",
              "      <td>Yes</td>\n",
              "      <td>Yes</td>\n",
              "    </tr>\n",
              "    <tr>\n",
              "      <th>2828</th>\n",
              "      <td>17</td>\n",
              "      <td>Male</td>\n",
              "      <td>White</td>\n",
              "      <td>Never been married</td>\n",
              "      <td>High school incomplete</td>\n",
              "      <td>Employed part-time</td>\n",
              "      <td>$30,000 to under $40,000</td>\n",
              "      <td>0</td>\n",
              "      <td>-</td>\n",
              "      <td>-</td>\n",
              "      <td>-</td>\n",
              "      <td>-</td>\n",
              "      <td>Yes</td>\n",
              "      <td>No</td>\n",
              "    </tr>\n",
              "    <tr>\n",
              "      <th>2829</th>\n",
              "      <td>17</td>\n",
              "      <td>Female</td>\n",
              "      <td>White</td>\n",
              "      <td>Never been married</td>\n",
              "      <td>High school incomplete</td>\n",
              "      <td>Not employed for pay</td>\n",
              "      <td>$100,000 to under $150,000</td>\n",
              "      <td>0</td>\n",
              "      <td>-</td>\n",
              "      <td>-</td>\n",
              "      <td>-</td>\n",
              "      <td>-</td>\n",
              "      <td>No</td>\n",
              "      <td>Yes</td>\n",
              "    </tr>\n",
              "    <tr>\n",
              "      <th>2830</th>\n",
              "      <td>16</td>\n",
              "      <td>Male</td>\n",
              "      <td>White</td>\n",
              "      <td>Never been married</td>\n",
              "      <td>High school graduate</td>\n",
              "      <td>Not employed for pay</td>\n",
              "      <td>$100,000 to under $150,000</td>\n",
              "      <td>0</td>\n",
              "      <td>-</td>\n",
              "      <td>-</td>\n",
              "      <td>-</td>\n",
              "      <td>-</td>\n",
              "      <td>No</td>\n",
              "      <td>No</td>\n",
              "    </tr>\n",
              "  </tbody>\n",
              "</table>\n",
              "<p>2400 rows × 14 columns</p>\n",
              "</div>\n",
              "      <button class=\"colab-df-convert\" onclick=\"convertToInteractive('df-53f47eb4-9351-4f8d-b5ac-697dadc802e7')\"\n",
              "              title=\"Convert this dataframe to an interactive table.\"\n",
              "              style=\"display:none;\">\n",
              "        \n",
              "  <svg xmlns=\"http://www.w3.org/2000/svg\" height=\"24px\"viewBox=\"0 0 24 24\"\n",
              "       width=\"24px\">\n",
              "    <path d=\"M0 0h24v24H0V0z\" fill=\"none\"/>\n",
              "    <path d=\"M18.56 5.44l.94 2.06.94-2.06 2.06-.94-2.06-.94-.94-2.06-.94 2.06-2.06.94zm-11 1L8.5 8.5l.94-2.06 2.06-.94-2.06-.94L8.5 2.5l-.94 2.06-2.06.94zm10 10l.94 2.06.94-2.06 2.06-.94-2.06-.94-.94-2.06-.94 2.06-2.06.94z\"/><path d=\"M17.41 7.96l-1.37-1.37c-.4-.4-.92-.59-1.43-.59-.52 0-1.04.2-1.43.59L10.3 9.45l-7.72 7.72c-.78.78-.78 2.05 0 2.83L4 21.41c.39.39.9.59 1.41.59.51 0 1.02-.2 1.41-.59l7.78-7.78 2.81-2.81c.8-.78.8-2.07 0-2.86zM5.41 20L4 18.59l7.72-7.72 1.47 1.35L5.41 20z\"/>\n",
              "  </svg>\n",
              "      </button>\n",
              "      \n",
              "  <style>\n",
              "    .colab-df-container {\n",
              "      display:flex;\n",
              "      flex-wrap:wrap;\n",
              "      gap: 12px;\n",
              "    }\n",
              "\n",
              "    .colab-df-convert {\n",
              "      background-color: #E8F0FE;\n",
              "      border: none;\n",
              "      border-radius: 50%;\n",
              "      cursor: pointer;\n",
              "      display: none;\n",
              "      fill: #1967D2;\n",
              "      height: 32px;\n",
              "      padding: 0 0 0 0;\n",
              "      width: 32px;\n",
              "    }\n",
              "\n",
              "    .colab-df-convert:hover {\n",
              "      background-color: #E2EBFA;\n",
              "      box-shadow: 0px 1px 2px rgba(60, 64, 67, 0.3), 0px 1px 3px 1px rgba(60, 64, 67, 0.15);\n",
              "      fill: #174EA6;\n",
              "    }\n",
              "\n",
              "    [theme=dark] .colab-df-convert {\n",
              "      background-color: #3B4455;\n",
              "      fill: #D2E3FC;\n",
              "    }\n",
              "\n",
              "    [theme=dark] .colab-df-convert:hover {\n",
              "      background-color: #434B5C;\n",
              "      box-shadow: 0px 1px 3px 1px rgba(0, 0, 0, 0.15);\n",
              "      filter: drop-shadow(0px 1px 2px rgba(0, 0, 0, 0.3));\n",
              "      fill: #FFFFFF;\n",
              "    }\n",
              "  </style>\n",
              "\n",
              "      <script>\n",
              "        const buttonEl =\n",
              "          document.querySelector('#df-53f47eb4-9351-4f8d-b5ac-697dadc802e7 button.colab-df-convert');\n",
              "        buttonEl.style.display =\n",
              "          google.colab.kernel.accessAllowed ? 'block' : 'none';\n",
              "\n",
              "        async function convertToInteractive(key) {\n",
              "          const element = document.querySelector('#df-53f47eb4-9351-4f8d-b5ac-697dadc802e7');\n",
              "          const dataTable =\n",
              "            await google.colab.kernel.invokeFunction('convertToInteractive',\n",
              "                                                     [key], {});\n",
              "          if (!dataTable) return;\n",
              "\n",
              "          const docLinkHtml = 'Like what you see? Visit the ' +\n",
              "            '<a target=\"_blank\" href=https://colab.research.google.com/notebooks/data_table.ipynb>data table notebook</a>'\n",
              "            + ' to learn more about interactive tables.';\n",
              "          element.innerHTML = '';\n",
              "          dataTable['output_type'] = 'display_data';\n",
              "          await google.colab.output.renderOutput(dataTable, element);\n",
              "          const docLink = document.createElement('div');\n",
              "          docLink.innerHTML = docLinkHtml;\n",
              "          element.appendChild(docLink);\n",
              "        }\n",
              "      </script>\n",
              "    </div>\n",
              "  </div>\n",
              "  "
            ]
          },
          "metadata": {},
          "execution_count": 19
        }
      ]
    },
    {
      "cell_type": "markdown",
      "source": [
        "**Ändern des Inhalts der Einkommensdaten**"
      ],
      "metadata": {
        "id": "EPjDmFHPaKc1"
      }
    },
    {
      "cell_type": "code",
      "source": [
        "df[\"Incomes\"].replace(\"$100,000 to under $150,000\", \"100 - 150\", inplace = True)\n",
        "df[\"Incomes\"].replace(\"$75,000 to under $100,000\", '75 - 100', inplace = True)\n",
        "df[\"Incomes\"].replace(\"$50,000 to under $75,000\", '50 - 75', inplace = True)\n",
        "df[\"Incomes\"].replace(\"$40,000 to under $50,000\", \"40 - 50\", inplace = True)\n",
        "df[\"Incomes\"].replace(\"$30,000 to under $40,000\", \"30 - 40\", inplace = True)\n",
        "df[\"Incomes\"].replace(\"$20,000 to under $30,000\", \"20 - 30\", inplace = True)\n",
        "df[\"Incomes\"].replace(\"$10,000 to under $20,000\", \"10 - 20\", inplace = True)\n",
        "df[\"Incomes\"].replace(\"Less than $10,000\", \"<10\", inplace = True)"
      ],
      "metadata": {
        "id": "kDtnH-dwZKe4"
      },
      "execution_count": 20,
      "outputs": []
    },
    {
      "cell_type": "code",
      "source": [
        "df.rename(columns = {'Incomes':'Incomes in 1000s (USD)'}, inplace = True)"
      ],
      "metadata": {
        "id": "ogk48FqLavLf"
      },
      "execution_count": 21,
      "outputs": []
    },
    {
      "cell_type": "code",
      "source": [
        "df"
      ],
      "metadata": {
        "colab": {
          "base_uri": "https://localhost:8080/",
          "height": 641
        },
        "id": "5dQDDrjgawt7",
        "outputId": "f859d7d2-3104-49d4-8b02-3dc8f92b2831"
      },
      "execution_count": 22,
      "outputs": [
        {
          "output_type": "execute_result",
          "data": {
            "text/plain": [
              "      Age     Sex                             Race      Marital status  \\\n",
              "1      46    Male  Native American/American Indian             Married   \n",
              "2      32    Male                       Mixed race  Never been married   \n",
              "3      27    Male                       Mixed race             Married   \n",
              "4      16  Female                       Mixed race  Never been married   \n",
              "5      55  Female        Asian or Pacific Islander            Divorced   \n",
              "...   ...     ...                              ...                 ...   \n",
              "2826   18    Male                            White  Never been married   \n",
              "2827   18    Male                            White  Never been married   \n",
              "2828   17    Male                            White  Never been married   \n",
              "2829   17  Female                            White  Never been married   \n",
              "2830   16    Male                            White  Never been married   \n",
              "\n",
              "                           Education                      Employement  \\\n",
              "1               High school graduate               Employed full-time   \n",
              "2               High school graduate               Employed full-time   \n",
              "3               High school graduate               Employed full-time   \n",
              "4             High school incomplete               Employed part-time   \n",
              "5     Some college, no 4-year degree  Have own business/self-employed   \n",
              "...                              ...                              ...   \n",
              "2826          High school incomplete             Not employed for pay   \n",
              "2827            High school graduate               Employed part-time   \n",
              "2828          High school incomplete               Employed part-time   \n",
              "2829          High school incomplete             Not employed for pay   \n",
              "2830            High school graduate             Not employed for pay   \n",
              "\n",
              "     Incomes in 1000s (USD)  Q1   Q2   Q3   Q4  \\\n",
              "1                       <10  97  Yes  Yes  Yes   \n",
              "2                       <10  97   No  Yes  Yes   \n",
              "3                   40 - 50  97  Yes   No  Yes   \n",
              "4                   10 - 20  97  Yes  Yes   No   \n",
              "5                   40 - 50  97  Yes  Yes  Yes   \n",
              "...                     ...  ..  ...  ...  ...   \n",
              "2826                    <10   0    -    -    -   \n",
              "2827               75 - 100   0    -    -    -   \n",
              "2828                30 - 40   0    -    -    -   \n",
              "2829              100 - 150   0    -    -    -   \n",
              "2830              100 - 150   0    -    -    -   \n",
              "\n",
              "                                                    Q5   Q6   Q7  \n",
              "1                                   Purchased the book  Yes  Yes  \n",
              "2     Borrowed the book from a friend or family member  Yes  Yes  \n",
              "3                     Borrowed the book from a library  Yes   No  \n",
              "4                                   Purchased the book  Yes   No  \n",
              "5                                   Purchased the book   No   No  \n",
              "...                                                ...  ...  ...  \n",
              "2826                                                 -   No   No  \n",
              "2827                                                 -  Yes  Yes  \n",
              "2828                                                 -  Yes   No  \n",
              "2829                                                 -   No  Yes  \n",
              "2830                                                 -   No   No  \n",
              "\n",
              "[2400 rows x 14 columns]"
            ],
            "text/html": [
              "\n",
              "  <div id=\"df-a244cdea-3fd3-4e7c-9204-c12287541f35\">\n",
              "    <div class=\"colab-df-container\">\n",
              "      <div>\n",
              "<style scoped>\n",
              "    .dataframe tbody tr th:only-of-type {\n",
              "        vertical-align: middle;\n",
              "    }\n",
              "\n",
              "    .dataframe tbody tr th {\n",
              "        vertical-align: top;\n",
              "    }\n",
              "\n",
              "    .dataframe thead th {\n",
              "        text-align: right;\n",
              "    }\n",
              "</style>\n",
              "<table border=\"1\" class=\"dataframe\">\n",
              "  <thead>\n",
              "    <tr style=\"text-align: right;\">\n",
              "      <th></th>\n",
              "      <th>Age</th>\n",
              "      <th>Sex</th>\n",
              "      <th>Race</th>\n",
              "      <th>Marital status</th>\n",
              "      <th>Education</th>\n",
              "      <th>Employement</th>\n",
              "      <th>Incomes in 1000s (USD)</th>\n",
              "      <th>Q1</th>\n",
              "      <th>Q2</th>\n",
              "      <th>Q3</th>\n",
              "      <th>Q4</th>\n",
              "      <th>Q5</th>\n",
              "      <th>Q6</th>\n",
              "      <th>Q7</th>\n",
              "    </tr>\n",
              "  </thead>\n",
              "  <tbody>\n",
              "    <tr>\n",
              "      <th>1</th>\n",
              "      <td>46</td>\n",
              "      <td>Male</td>\n",
              "      <td>Native American/American Indian</td>\n",
              "      <td>Married</td>\n",
              "      <td>High school graduate</td>\n",
              "      <td>Employed full-time</td>\n",
              "      <td>&lt;10</td>\n",
              "      <td>97</td>\n",
              "      <td>Yes</td>\n",
              "      <td>Yes</td>\n",
              "      <td>Yes</td>\n",
              "      <td>Purchased the book</td>\n",
              "      <td>Yes</td>\n",
              "      <td>Yes</td>\n",
              "    </tr>\n",
              "    <tr>\n",
              "      <th>2</th>\n",
              "      <td>32</td>\n",
              "      <td>Male</td>\n",
              "      <td>Mixed race</td>\n",
              "      <td>Never been married</td>\n",
              "      <td>High school graduate</td>\n",
              "      <td>Employed full-time</td>\n",
              "      <td>&lt;10</td>\n",
              "      <td>97</td>\n",
              "      <td>No</td>\n",
              "      <td>Yes</td>\n",
              "      <td>Yes</td>\n",
              "      <td>Borrowed the book from a friend or family member</td>\n",
              "      <td>Yes</td>\n",
              "      <td>Yes</td>\n",
              "    </tr>\n",
              "    <tr>\n",
              "      <th>3</th>\n",
              "      <td>27</td>\n",
              "      <td>Male</td>\n",
              "      <td>Mixed race</td>\n",
              "      <td>Married</td>\n",
              "      <td>High school graduate</td>\n",
              "      <td>Employed full-time</td>\n",
              "      <td>40 - 50</td>\n",
              "      <td>97</td>\n",
              "      <td>Yes</td>\n",
              "      <td>No</td>\n",
              "      <td>Yes</td>\n",
              "      <td>Borrowed the book from a library</td>\n",
              "      <td>Yes</td>\n",
              "      <td>No</td>\n",
              "    </tr>\n",
              "    <tr>\n",
              "      <th>4</th>\n",
              "      <td>16</td>\n",
              "      <td>Female</td>\n",
              "      <td>Mixed race</td>\n",
              "      <td>Never been married</td>\n",
              "      <td>High school incomplete</td>\n",
              "      <td>Employed part-time</td>\n",
              "      <td>10 - 20</td>\n",
              "      <td>97</td>\n",
              "      <td>Yes</td>\n",
              "      <td>Yes</td>\n",
              "      <td>No</td>\n",
              "      <td>Purchased the book</td>\n",
              "      <td>Yes</td>\n",
              "      <td>No</td>\n",
              "    </tr>\n",
              "    <tr>\n",
              "      <th>5</th>\n",
              "      <td>55</td>\n",
              "      <td>Female</td>\n",
              "      <td>Asian or Pacific Islander</td>\n",
              "      <td>Divorced</td>\n",
              "      <td>Some college, no 4-year degree</td>\n",
              "      <td>Have own business/self-employed</td>\n",
              "      <td>40 - 50</td>\n",
              "      <td>97</td>\n",
              "      <td>Yes</td>\n",
              "      <td>Yes</td>\n",
              "      <td>Yes</td>\n",
              "      <td>Purchased the book</td>\n",
              "      <td>No</td>\n",
              "      <td>No</td>\n",
              "    </tr>\n",
              "    <tr>\n",
              "      <th>...</th>\n",
              "      <td>...</td>\n",
              "      <td>...</td>\n",
              "      <td>...</td>\n",
              "      <td>...</td>\n",
              "      <td>...</td>\n",
              "      <td>...</td>\n",
              "      <td>...</td>\n",
              "      <td>...</td>\n",
              "      <td>...</td>\n",
              "      <td>...</td>\n",
              "      <td>...</td>\n",
              "      <td>...</td>\n",
              "      <td>...</td>\n",
              "      <td>...</td>\n",
              "    </tr>\n",
              "    <tr>\n",
              "      <th>2826</th>\n",
              "      <td>18</td>\n",
              "      <td>Male</td>\n",
              "      <td>White</td>\n",
              "      <td>Never been married</td>\n",
              "      <td>High school incomplete</td>\n",
              "      <td>Not employed for pay</td>\n",
              "      <td>&lt;10</td>\n",
              "      <td>0</td>\n",
              "      <td>-</td>\n",
              "      <td>-</td>\n",
              "      <td>-</td>\n",
              "      <td>-</td>\n",
              "      <td>No</td>\n",
              "      <td>No</td>\n",
              "    </tr>\n",
              "    <tr>\n",
              "      <th>2827</th>\n",
              "      <td>18</td>\n",
              "      <td>Male</td>\n",
              "      <td>White</td>\n",
              "      <td>Never been married</td>\n",
              "      <td>High school graduate</td>\n",
              "      <td>Employed part-time</td>\n",
              "      <td>75 - 100</td>\n",
              "      <td>0</td>\n",
              "      <td>-</td>\n",
              "      <td>-</td>\n",
              "      <td>-</td>\n",
              "      <td>-</td>\n",
              "      <td>Yes</td>\n",
              "      <td>Yes</td>\n",
              "    </tr>\n",
              "    <tr>\n",
              "      <th>2828</th>\n",
              "      <td>17</td>\n",
              "      <td>Male</td>\n",
              "      <td>White</td>\n",
              "      <td>Never been married</td>\n",
              "      <td>High school incomplete</td>\n",
              "      <td>Employed part-time</td>\n",
              "      <td>30 - 40</td>\n",
              "      <td>0</td>\n",
              "      <td>-</td>\n",
              "      <td>-</td>\n",
              "      <td>-</td>\n",
              "      <td>-</td>\n",
              "      <td>Yes</td>\n",
              "      <td>No</td>\n",
              "    </tr>\n",
              "    <tr>\n",
              "      <th>2829</th>\n",
              "      <td>17</td>\n",
              "      <td>Female</td>\n",
              "      <td>White</td>\n",
              "      <td>Never been married</td>\n",
              "      <td>High school incomplete</td>\n",
              "      <td>Not employed for pay</td>\n",
              "      <td>100 - 150</td>\n",
              "      <td>0</td>\n",
              "      <td>-</td>\n",
              "      <td>-</td>\n",
              "      <td>-</td>\n",
              "      <td>-</td>\n",
              "      <td>No</td>\n",
              "      <td>Yes</td>\n",
              "    </tr>\n",
              "    <tr>\n",
              "      <th>2830</th>\n",
              "      <td>16</td>\n",
              "      <td>Male</td>\n",
              "      <td>White</td>\n",
              "      <td>Never been married</td>\n",
              "      <td>High school graduate</td>\n",
              "      <td>Not employed for pay</td>\n",
              "      <td>100 - 150</td>\n",
              "      <td>0</td>\n",
              "      <td>-</td>\n",
              "      <td>-</td>\n",
              "      <td>-</td>\n",
              "      <td>-</td>\n",
              "      <td>No</td>\n",
              "      <td>No</td>\n",
              "    </tr>\n",
              "  </tbody>\n",
              "</table>\n",
              "<p>2400 rows × 14 columns</p>\n",
              "</div>\n",
              "      <button class=\"colab-df-convert\" onclick=\"convertToInteractive('df-a244cdea-3fd3-4e7c-9204-c12287541f35')\"\n",
              "              title=\"Convert this dataframe to an interactive table.\"\n",
              "              style=\"display:none;\">\n",
              "        \n",
              "  <svg xmlns=\"http://www.w3.org/2000/svg\" height=\"24px\"viewBox=\"0 0 24 24\"\n",
              "       width=\"24px\">\n",
              "    <path d=\"M0 0h24v24H0V0z\" fill=\"none\"/>\n",
              "    <path d=\"M18.56 5.44l.94 2.06.94-2.06 2.06-.94-2.06-.94-.94-2.06-.94 2.06-2.06.94zm-11 1L8.5 8.5l.94-2.06 2.06-.94-2.06-.94L8.5 2.5l-.94 2.06-2.06.94zm10 10l.94 2.06.94-2.06 2.06-.94-2.06-.94-.94-2.06-.94 2.06-2.06.94z\"/><path d=\"M17.41 7.96l-1.37-1.37c-.4-.4-.92-.59-1.43-.59-.52 0-1.04.2-1.43.59L10.3 9.45l-7.72 7.72c-.78.78-.78 2.05 0 2.83L4 21.41c.39.39.9.59 1.41.59.51 0 1.02-.2 1.41-.59l7.78-7.78 2.81-2.81c.8-.78.8-2.07 0-2.86zM5.41 20L4 18.59l7.72-7.72 1.47 1.35L5.41 20z\"/>\n",
              "  </svg>\n",
              "      </button>\n",
              "      \n",
              "  <style>\n",
              "    .colab-df-container {\n",
              "      display:flex;\n",
              "      flex-wrap:wrap;\n",
              "      gap: 12px;\n",
              "    }\n",
              "\n",
              "    .colab-df-convert {\n",
              "      background-color: #E8F0FE;\n",
              "      border: none;\n",
              "      border-radius: 50%;\n",
              "      cursor: pointer;\n",
              "      display: none;\n",
              "      fill: #1967D2;\n",
              "      height: 32px;\n",
              "      padding: 0 0 0 0;\n",
              "      width: 32px;\n",
              "    }\n",
              "\n",
              "    .colab-df-convert:hover {\n",
              "      background-color: #E2EBFA;\n",
              "      box-shadow: 0px 1px 2px rgba(60, 64, 67, 0.3), 0px 1px 3px 1px rgba(60, 64, 67, 0.15);\n",
              "      fill: #174EA6;\n",
              "    }\n",
              "\n",
              "    [theme=dark] .colab-df-convert {\n",
              "      background-color: #3B4455;\n",
              "      fill: #D2E3FC;\n",
              "    }\n",
              "\n",
              "    [theme=dark] .colab-df-convert:hover {\n",
              "      background-color: #434B5C;\n",
              "      box-shadow: 0px 1px 3px 1px rgba(0, 0, 0, 0.15);\n",
              "      filter: drop-shadow(0px 1px 2px rgba(0, 0, 0, 0.3));\n",
              "      fill: #FFFFFF;\n",
              "    }\n",
              "  </style>\n",
              "\n",
              "      <script>\n",
              "        const buttonEl =\n",
              "          document.querySelector('#df-a244cdea-3fd3-4e7c-9204-c12287541f35 button.colab-df-convert');\n",
              "        buttonEl.style.display =\n",
              "          google.colab.kernel.accessAllowed ? 'block' : 'none';\n",
              "\n",
              "        async function convertToInteractive(key) {\n",
              "          const element = document.querySelector('#df-a244cdea-3fd3-4e7c-9204-c12287541f35');\n",
              "          const dataTable =\n",
              "            await google.colab.kernel.invokeFunction('convertToInteractive',\n",
              "                                                     [key], {});\n",
              "          if (!dataTable) return;\n",
              "\n",
              "          const docLinkHtml = 'Like what you see? Visit the ' +\n",
              "            '<a target=\"_blank\" href=https://colab.research.google.com/notebooks/data_table.ipynb>data table notebook</a>'\n",
              "            + ' to learn more about interactive tables.';\n",
              "          element.innerHTML = '';\n",
              "          dataTable['output_type'] = 'display_data';\n",
              "          await google.colab.output.renderOutput(dataTable, element);\n",
              "          const docLink = document.createElement('div');\n",
              "          docLink.innerHTML = docLinkHtml;\n",
              "          element.appendChild(docLink);\n",
              "        }\n",
              "      </script>\n",
              "    </div>\n",
              "  </div>\n",
              "  "
            ]
          },
          "metadata": {},
          "execution_count": 22
        }
      ]
    },
    {
      "cell_type": "markdown",
      "source": [
        "**Daten ändern/aktualisieren:** Einige Daten wurden vereinfacht, damit die Bedeutung gleich bleibt"
      ],
      "metadata": {
        "id": "Yjf4MvGwf878"
      }
    },
    {
      "cell_type": "code",
      "source": [
        "df[\"Education\"].replace(\"Technical, trade or vocational school AFTER high school\", \"Technical School\", inplace = True)\n",
        "df[\"Education\"].replace(\"Post-graduate training/professional school after college\", \"Post-graduate \", inplace = True)\n",
        "df[\"Education\"].replace(\"Some college, no 4-year degree\", \"In College\", inplace = True)"
      ],
      "metadata": {
        "id": "IFckA0Dpf9Ho"
      },
      "execution_count": 23,
      "outputs": []
    },
    {
      "cell_type": "code",
      "source": [
        "df[\"Q5\"].value_counts()"
      ],
      "metadata": {
        "colab": {
          "base_uri": "https://localhost:8080/"
        },
        "id": "mdGQEROZjXLA",
        "outputId": "407c2a34-3e64-41d4-c877-959cd5a5e8f2"
      },
      "execution_count": 24,
      "outputs": [
        {
          "output_type": "execute_result",
          "data": {
            "text/plain": [
              "Purchased the book                                  1105\n",
              "Borrowed the book from a friend or family member     436\n",
              "-                                                    317\n",
              "Borrowed the book from a library                     274\n",
              "Got the book some other way                          268\n",
              "Name: Q5, dtype: int64"
            ]
          },
          "metadata": {},
          "execution_count": 24
        }
      ]
    },
    {
      "cell_type": "code",
      "source": [
        "df[\"Q5\"].replace(\"Borrowed the book from a friend or family member\", \"Borrowed from a friend/a family member\", inplace = True)\n",
        "df[\"Q5\"].replace(\"Got the book some other way \", \"Other\", inplace = True)"
      ],
      "metadata": {
        "id": "Sf4aSOkZpKvj"
      },
      "execution_count": 25,
      "outputs": []
    },
    {
      "cell_type": "code",
      "source": [
        "df"
      ],
      "metadata": {
        "colab": {
          "base_uri": "https://localhost:8080/",
          "height": 658
        },
        "id": "Gza5wI1fknl-",
        "outputId": "173bcf4a-910b-45dc-aa0b-ba242911d728"
      },
      "execution_count": 26,
      "outputs": [
        {
          "output_type": "execute_result",
          "data": {
            "text/plain": [
              "      Age     Sex                             Race      Marital status  \\\n",
              "1      46    Male  Native American/American Indian             Married   \n",
              "2      32    Male                       Mixed race  Never been married   \n",
              "3      27    Male                       Mixed race             Married   \n",
              "4      16  Female                       Mixed race  Never been married   \n",
              "5      55  Female        Asian or Pacific Islander            Divorced   \n",
              "...   ...     ...                              ...                 ...   \n",
              "2826   18    Male                            White  Never been married   \n",
              "2827   18    Male                            White  Never been married   \n",
              "2828   17    Male                            White  Never been married   \n",
              "2829   17  Female                            White  Never been married   \n",
              "2830   16    Male                            White  Never been married   \n",
              "\n",
              "                   Education                      Employement  \\\n",
              "1       High school graduate               Employed full-time   \n",
              "2       High school graduate               Employed full-time   \n",
              "3       High school graduate               Employed full-time   \n",
              "4     High school incomplete               Employed part-time   \n",
              "5                 In College  Have own business/self-employed   \n",
              "...                      ...                              ...   \n",
              "2826  High school incomplete             Not employed for pay   \n",
              "2827    High school graduate               Employed part-time   \n",
              "2828  High school incomplete               Employed part-time   \n",
              "2829  High school incomplete             Not employed for pay   \n",
              "2830    High school graduate             Not employed for pay   \n",
              "\n",
              "     Incomes in 1000s (USD)  Q1   Q2   Q3   Q4  \\\n",
              "1                       <10  97  Yes  Yes  Yes   \n",
              "2                       <10  97   No  Yes  Yes   \n",
              "3                   40 - 50  97  Yes   No  Yes   \n",
              "4                   10 - 20  97  Yes  Yes   No   \n",
              "5                   40 - 50  97  Yes  Yes  Yes   \n",
              "...                     ...  ..  ...  ...  ...   \n",
              "2826                    <10   0    -    -    -   \n",
              "2827               75 - 100   0    -    -    -   \n",
              "2828                30 - 40   0    -    -    -   \n",
              "2829              100 - 150   0    -    -    -   \n",
              "2830              100 - 150   0    -    -    -   \n",
              "\n",
              "                                          Q5   Q6   Q7  \n",
              "1                         Purchased the book  Yes  Yes  \n",
              "2     Borrowed from a friend/a family member  Yes  Yes  \n",
              "3           Borrowed the book from a library  Yes   No  \n",
              "4                         Purchased the book  Yes   No  \n",
              "5                         Purchased the book   No   No  \n",
              "...                                      ...  ...  ...  \n",
              "2826                                       -   No   No  \n",
              "2827                                       -  Yes  Yes  \n",
              "2828                                       -  Yes   No  \n",
              "2829                                       -   No  Yes  \n",
              "2830                                       -   No   No  \n",
              "\n",
              "[2400 rows x 14 columns]"
            ],
            "text/html": [
              "\n",
              "  <div id=\"df-a6e74181-d325-4c45-9640-6138316f4b2a\">\n",
              "    <div class=\"colab-df-container\">\n",
              "      <div>\n",
              "<style scoped>\n",
              "    .dataframe tbody tr th:only-of-type {\n",
              "        vertical-align: middle;\n",
              "    }\n",
              "\n",
              "    .dataframe tbody tr th {\n",
              "        vertical-align: top;\n",
              "    }\n",
              "\n",
              "    .dataframe thead th {\n",
              "        text-align: right;\n",
              "    }\n",
              "</style>\n",
              "<table border=\"1\" class=\"dataframe\">\n",
              "  <thead>\n",
              "    <tr style=\"text-align: right;\">\n",
              "      <th></th>\n",
              "      <th>Age</th>\n",
              "      <th>Sex</th>\n",
              "      <th>Race</th>\n",
              "      <th>Marital status</th>\n",
              "      <th>Education</th>\n",
              "      <th>Employement</th>\n",
              "      <th>Incomes in 1000s (USD)</th>\n",
              "      <th>Q1</th>\n",
              "      <th>Q2</th>\n",
              "      <th>Q3</th>\n",
              "      <th>Q4</th>\n",
              "      <th>Q5</th>\n",
              "      <th>Q6</th>\n",
              "      <th>Q7</th>\n",
              "    </tr>\n",
              "  </thead>\n",
              "  <tbody>\n",
              "    <tr>\n",
              "      <th>1</th>\n",
              "      <td>46</td>\n",
              "      <td>Male</td>\n",
              "      <td>Native American/American Indian</td>\n",
              "      <td>Married</td>\n",
              "      <td>High school graduate</td>\n",
              "      <td>Employed full-time</td>\n",
              "      <td>&lt;10</td>\n",
              "      <td>97</td>\n",
              "      <td>Yes</td>\n",
              "      <td>Yes</td>\n",
              "      <td>Yes</td>\n",
              "      <td>Purchased the book</td>\n",
              "      <td>Yes</td>\n",
              "      <td>Yes</td>\n",
              "    </tr>\n",
              "    <tr>\n",
              "      <th>2</th>\n",
              "      <td>32</td>\n",
              "      <td>Male</td>\n",
              "      <td>Mixed race</td>\n",
              "      <td>Never been married</td>\n",
              "      <td>High school graduate</td>\n",
              "      <td>Employed full-time</td>\n",
              "      <td>&lt;10</td>\n",
              "      <td>97</td>\n",
              "      <td>No</td>\n",
              "      <td>Yes</td>\n",
              "      <td>Yes</td>\n",
              "      <td>Borrowed from a friend/a family member</td>\n",
              "      <td>Yes</td>\n",
              "      <td>Yes</td>\n",
              "    </tr>\n",
              "    <tr>\n",
              "      <th>3</th>\n",
              "      <td>27</td>\n",
              "      <td>Male</td>\n",
              "      <td>Mixed race</td>\n",
              "      <td>Married</td>\n",
              "      <td>High school graduate</td>\n",
              "      <td>Employed full-time</td>\n",
              "      <td>40 - 50</td>\n",
              "      <td>97</td>\n",
              "      <td>Yes</td>\n",
              "      <td>No</td>\n",
              "      <td>Yes</td>\n",
              "      <td>Borrowed the book from a library</td>\n",
              "      <td>Yes</td>\n",
              "      <td>No</td>\n",
              "    </tr>\n",
              "    <tr>\n",
              "      <th>4</th>\n",
              "      <td>16</td>\n",
              "      <td>Female</td>\n",
              "      <td>Mixed race</td>\n",
              "      <td>Never been married</td>\n",
              "      <td>High school incomplete</td>\n",
              "      <td>Employed part-time</td>\n",
              "      <td>10 - 20</td>\n",
              "      <td>97</td>\n",
              "      <td>Yes</td>\n",
              "      <td>Yes</td>\n",
              "      <td>No</td>\n",
              "      <td>Purchased the book</td>\n",
              "      <td>Yes</td>\n",
              "      <td>No</td>\n",
              "    </tr>\n",
              "    <tr>\n",
              "      <th>5</th>\n",
              "      <td>55</td>\n",
              "      <td>Female</td>\n",
              "      <td>Asian or Pacific Islander</td>\n",
              "      <td>Divorced</td>\n",
              "      <td>In College</td>\n",
              "      <td>Have own business/self-employed</td>\n",
              "      <td>40 - 50</td>\n",
              "      <td>97</td>\n",
              "      <td>Yes</td>\n",
              "      <td>Yes</td>\n",
              "      <td>Yes</td>\n",
              "      <td>Purchased the book</td>\n",
              "      <td>No</td>\n",
              "      <td>No</td>\n",
              "    </tr>\n",
              "    <tr>\n",
              "      <th>...</th>\n",
              "      <td>...</td>\n",
              "      <td>...</td>\n",
              "      <td>...</td>\n",
              "      <td>...</td>\n",
              "      <td>...</td>\n",
              "      <td>...</td>\n",
              "      <td>...</td>\n",
              "      <td>...</td>\n",
              "      <td>...</td>\n",
              "      <td>...</td>\n",
              "      <td>...</td>\n",
              "      <td>...</td>\n",
              "      <td>...</td>\n",
              "      <td>...</td>\n",
              "    </tr>\n",
              "    <tr>\n",
              "      <th>2826</th>\n",
              "      <td>18</td>\n",
              "      <td>Male</td>\n",
              "      <td>White</td>\n",
              "      <td>Never been married</td>\n",
              "      <td>High school incomplete</td>\n",
              "      <td>Not employed for pay</td>\n",
              "      <td>&lt;10</td>\n",
              "      <td>0</td>\n",
              "      <td>-</td>\n",
              "      <td>-</td>\n",
              "      <td>-</td>\n",
              "      <td>-</td>\n",
              "      <td>No</td>\n",
              "      <td>No</td>\n",
              "    </tr>\n",
              "    <tr>\n",
              "      <th>2827</th>\n",
              "      <td>18</td>\n",
              "      <td>Male</td>\n",
              "      <td>White</td>\n",
              "      <td>Never been married</td>\n",
              "      <td>High school graduate</td>\n",
              "      <td>Employed part-time</td>\n",
              "      <td>75 - 100</td>\n",
              "      <td>0</td>\n",
              "      <td>-</td>\n",
              "      <td>-</td>\n",
              "      <td>-</td>\n",
              "      <td>-</td>\n",
              "      <td>Yes</td>\n",
              "      <td>Yes</td>\n",
              "    </tr>\n",
              "    <tr>\n",
              "      <th>2828</th>\n",
              "      <td>17</td>\n",
              "      <td>Male</td>\n",
              "      <td>White</td>\n",
              "      <td>Never been married</td>\n",
              "      <td>High school incomplete</td>\n",
              "      <td>Employed part-time</td>\n",
              "      <td>30 - 40</td>\n",
              "      <td>0</td>\n",
              "      <td>-</td>\n",
              "      <td>-</td>\n",
              "      <td>-</td>\n",
              "      <td>-</td>\n",
              "      <td>Yes</td>\n",
              "      <td>No</td>\n",
              "    </tr>\n",
              "    <tr>\n",
              "      <th>2829</th>\n",
              "      <td>17</td>\n",
              "      <td>Female</td>\n",
              "      <td>White</td>\n",
              "      <td>Never been married</td>\n",
              "      <td>High school incomplete</td>\n",
              "      <td>Not employed for pay</td>\n",
              "      <td>100 - 150</td>\n",
              "      <td>0</td>\n",
              "      <td>-</td>\n",
              "      <td>-</td>\n",
              "      <td>-</td>\n",
              "      <td>-</td>\n",
              "      <td>No</td>\n",
              "      <td>Yes</td>\n",
              "    </tr>\n",
              "    <tr>\n",
              "      <th>2830</th>\n",
              "      <td>16</td>\n",
              "      <td>Male</td>\n",
              "      <td>White</td>\n",
              "      <td>Never been married</td>\n",
              "      <td>High school graduate</td>\n",
              "      <td>Not employed for pay</td>\n",
              "      <td>100 - 150</td>\n",
              "      <td>0</td>\n",
              "      <td>-</td>\n",
              "      <td>-</td>\n",
              "      <td>-</td>\n",
              "      <td>-</td>\n",
              "      <td>No</td>\n",
              "      <td>No</td>\n",
              "    </tr>\n",
              "  </tbody>\n",
              "</table>\n",
              "<p>2400 rows × 14 columns</p>\n",
              "</div>\n",
              "      <button class=\"colab-df-convert\" onclick=\"convertToInteractive('df-a6e74181-d325-4c45-9640-6138316f4b2a')\"\n",
              "              title=\"Convert this dataframe to an interactive table.\"\n",
              "              style=\"display:none;\">\n",
              "        \n",
              "  <svg xmlns=\"http://www.w3.org/2000/svg\" height=\"24px\"viewBox=\"0 0 24 24\"\n",
              "       width=\"24px\">\n",
              "    <path d=\"M0 0h24v24H0V0z\" fill=\"none\"/>\n",
              "    <path d=\"M18.56 5.44l.94 2.06.94-2.06 2.06-.94-2.06-.94-.94-2.06-.94 2.06-2.06.94zm-11 1L8.5 8.5l.94-2.06 2.06-.94-2.06-.94L8.5 2.5l-.94 2.06-2.06.94zm10 10l.94 2.06.94-2.06 2.06-.94-2.06-.94-.94-2.06-.94 2.06-2.06.94z\"/><path d=\"M17.41 7.96l-1.37-1.37c-.4-.4-.92-.59-1.43-.59-.52 0-1.04.2-1.43.59L10.3 9.45l-7.72 7.72c-.78.78-.78 2.05 0 2.83L4 21.41c.39.39.9.59 1.41.59.51 0 1.02-.2 1.41-.59l7.78-7.78 2.81-2.81c.8-.78.8-2.07 0-2.86zM5.41 20L4 18.59l7.72-7.72 1.47 1.35L5.41 20z\"/>\n",
              "  </svg>\n",
              "      </button>\n",
              "      \n",
              "  <style>\n",
              "    .colab-df-container {\n",
              "      display:flex;\n",
              "      flex-wrap:wrap;\n",
              "      gap: 12px;\n",
              "    }\n",
              "\n",
              "    .colab-df-convert {\n",
              "      background-color: #E8F0FE;\n",
              "      border: none;\n",
              "      border-radius: 50%;\n",
              "      cursor: pointer;\n",
              "      display: none;\n",
              "      fill: #1967D2;\n",
              "      height: 32px;\n",
              "      padding: 0 0 0 0;\n",
              "      width: 32px;\n",
              "    }\n",
              "\n",
              "    .colab-df-convert:hover {\n",
              "      background-color: #E2EBFA;\n",
              "      box-shadow: 0px 1px 2px rgba(60, 64, 67, 0.3), 0px 1px 3px 1px rgba(60, 64, 67, 0.15);\n",
              "      fill: #174EA6;\n",
              "    }\n",
              "\n",
              "    [theme=dark] .colab-df-convert {\n",
              "      background-color: #3B4455;\n",
              "      fill: #D2E3FC;\n",
              "    }\n",
              "\n",
              "    [theme=dark] .colab-df-convert:hover {\n",
              "      background-color: #434B5C;\n",
              "      box-shadow: 0px 1px 3px 1px rgba(0, 0, 0, 0.15);\n",
              "      filter: drop-shadow(0px 1px 2px rgba(0, 0, 0, 0.3));\n",
              "      fill: #FFFFFF;\n",
              "    }\n",
              "  </style>\n",
              "\n",
              "      <script>\n",
              "        const buttonEl =\n",
              "          document.querySelector('#df-a6e74181-d325-4c45-9640-6138316f4b2a button.colab-df-convert');\n",
              "        buttonEl.style.display =\n",
              "          google.colab.kernel.accessAllowed ? 'block' : 'none';\n",
              "\n",
              "        async function convertToInteractive(key) {\n",
              "          const element = document.querySelector('#df-a6e74181-d325-4c45-9640-6138316f4b2a');\n",
              "          const dataTable =\n",
              "            await google.colab.kernel.invokeFunction('convertToInteractive',\n",
              "                                                     [key], {});\n",
              "          if (!dataTable) return;\n",
              "\n",
              "          const docLinkHtml = 'Like what you see? Visit the ' +\n",
              "            '<a target=\"_blank\" href=https://colab.research.google.com/notebooks/data_table.ipynb>data table notebook</a>'\n",
              "            + ' to learn more about interactive tables.';\n",
              "          element.innerHTML = '';\n",
              "          dataTable['output_type'] = 'display_data';\n",
              "          await google.colab.output.renderOutput(dataTable, element);\n",
              "          const docLink = document.createElement('div');\n",
              "          docLink.innerHTML = docLinkHtml;\n",
              "          element.appendChild(docLink);\n",
              "        }\n",
              "      </script>\n",
              "    </div>\n",
              "  </div>\n",
              "  "
            ]
          },
          "metadata": {},
          "execution_count": 26
        }
      ]
    },
    {
      "cell_type": "markdown",
      "source": [
        "## Kategorisieren von Daten"
      ],
      "metadata": {
        "id": "qBOivMVDkwsG"
      }
    },
    {
      "cell_type": "code",
      "source": [
        "df['Sex'] = df['Sex'].astype('category')\n",
        "df[\"Sex\"].cat.categories"
      ],
      "metadata": {
        "colab": {
          "base_uri": "https://localhost:8080/"
        },
        "id": "NpvBSU16d0Ab",
        "outputId": "e0987dfb-adf1-4815-f9b4-1834a5b2b9fa"
      },
      "execution_count": 27,
      "outputs": [
        {
          "output_type": "execute_result",
          "data": {
            "text/plain": [
              "Index(['Female', 'Male'], dtype='object')"
            ]
          },
          "metadata": {},
          "execution_count": 27
        }
      ]
    },
    {
      "cell_type": "code",
      "source": [
        "df['Race'] = df['Race'].astype('category')\n",
        "df[\"Race\"].cat.categories"
      ],
      "metadata": {
        "colab": {
          "base_uri": "https://localhost:8080/"
        },
        "id": "IjeXWmoCNGLj",
        "outputId": "aa4eff77-8e83-45af-8c42-2f9cf6a22f7f"
      },
      "execution_count": 28,
      "outputs": [
        {
          "output_type": "execute_result",
          "data": {
            "text/plain": [
              "Index(['Asian or Pacific Islander', 'Black or African-American', 'Mixed race',\n",
              "       'Native American/American Indian', 'Other', 'White'],\n",
              "      dtype='object')"
            ]
          },
          "metadata": {},
          "execution_count": 28
        }
      ]
    },
    {
      "cell_type": "code",
      "source": [
        "cat_type = CategoricalDtype(categories=['<10','10 - 20', '20 - 30', '30 - 40', '40 - 50', '50 - 75',\n",
        "       '75 - 100', '100 - 150'], ordered=True)\n",
        "df['Incomes in 1000s (USD)'] = df['Incomes in 1000s (USD)'].astype(cat_type)\n",
        "df['Incomes in 1000s (USD)'].cat.categories"
      ],
      "metadata": {
        "colab": {
          "base_uri": "https://localhost:8080/"
        },
        "id": "kOfSaKAXeAW7",
        "outputId": "776145b6-f0d1-4e84-bd4b-6ca82e6b5e63"
      },
      "execution_count": 29,
      "outputs": [
        {
          "output_type": "execute_result",
          "data": {
            "text/plain": [
              "Index(['<10', '10 - 20', '20 - 30', '30 - 40', '40 - 50', '50 - 75',\n",
              "       '75 - 100', '100 - 150'],\n",
              "      dtype='object')"
            ]
          },
          "metadata": {},
          "execution_count": 29
        }
      ]
    },
    {
      "cell_type": "code",
      "source": [
        "df['Education'] = df['Education'].astype('category')\n",
        "df['Employement'] = df['Employement'].astype('category')\n",
        "df['Employement'].cat.categories"
      ],
      "metadata": {
        "colab": {
          "base_uri": "https://localhost:8080/"
        },
        "id": "YecV5LpDrqSd",
        "outputId": "e94d00cf-de8e-4688-92f5-da70528830f8"
      },
      "execution_count": 30,
      "outputs": [
        {
          "output_type": "execute_result",
          "data": {
            "text/plain": [
              "Index(['Disabled', 'Employed full-time', 'Employed part-time',\n",
              "       'Have own business/self-employed', 'Not employed for pay', 'Other',\n",
              "       'Retired', 'Student'],\n",
              "      dtype='object')"
            ]
          },
          "metadata": {},
          "execution_count": 30
        }
      ]
    },
    {
      "cell_type": "markdown",
      "source": [
        "## Datenvisualisierungen und einfache Statistiken"
      ],
      "metadata": {
        "id": "NurCLrw6sE1i"
      }
    },
    {
      "cell_type": "code",
      "source": [
        "plt.figure(figsize=(10, 6))\n",
        "plt.rcParams['font.size'] = '14'\n",
        "plt.rcParams['figure.figsize'] = 10, 6"
      ],
      "metadata": {
        "colab": {
          "base_uri": "https://localhost:8080/",
          "height": 34
        },
        "id": "XSCIe6Y92qXB",
        "outputId": "7918f859-4e56-4369-b2d3-b290a5026a1f"
      },
      "execution_count": 31,
      "outputs": [
        {
          "output_type": "display_data",
          "data": {
            "text/plain": [
              "<Figure size 720x432 with 0 Axes>"
            ]
          },
          "metadata": {}
        }
      ]
    },
    {
      "cell_type": "code",
      "source": [
        "palette = [\"#7F868D\", \"#7A808D\", \"#79788B\", \"#7C7086\", \"#81677D\", \n",
        "           \"#865E70\", \"#8D6887\", \"#956380\", \"#BAA6B1\"]\n",
        "sns.set_palette(palette)"
      ],
      "metadata": {
        "id": "4Q__bbsXPj8F"
      },
      "execution_count": 32,
      "outputs": []
    },
    {
      "cell_type": "markdown",
      "source": [
        "**Verteilung der Anzahl der Personen, die in den letzten 12 Monaten gelesen und nicht gelesen haben**"
      ],
      "metadata": {
        "id": "5AdMdsOrfqZ3"
      }
    },
    {
      "cell_type": "code",
      "source": [
        "colors = sns.color_palette(palette, 9) [2:7:4]\n",
        "\n",
        "df_zeros = df[df[\"Q1\"] == 0]\n",
        "df_nonzeros = df[df[\"Q1\"] != 0]\n",
        "\n",
        "data = [df_zeros[\"Q1\"].count(), df_nonzeros[\"Q1\"].count()]\n",
        "\n",
        "df_compare = pd.DataFrame(data, index = [\"readnobooks\", \"readbooks\"])\n",
        "\n",
        "plt.pie(df_compare, labels=[\"people who have not read a book\", \"people who have read books\"], colors=colors, startangle=90, autopct='%1.1f%%', textprops={'fontsize': 12})\n",
        "plt.title('Distribution of the number of people who read and did not read in the last 12 months')\n",
        "plt.show()"
      ],
      "metadata": {
        "colab": {
          "base_uri": "https://localhost:8080/",
          "height": 432
        },
        "outputId": "adfdbca5-cc9c-4e48-f813-05ae99a4dd20",
        "id": "5Q_Nq3_Kgoyh"
      },
      "execution_count": 33,
      "outputs": [
        {
          "output_type": "stream",
          "name": "stderr",
          "text": [
            "<ipython-input-33-b1264acccf9a>:10: MatplotlibDeprecationWarning: Non-1D inputs to pie() are currently squeeze()d, but this behavior is deprecated since 3.1 and will be removed in 3.3; pass a 1D array instead.\n",
            "  plt.pie(df_compare, labels=[\"people who have not read a book\", \"people who have read books\"], colors=colors, startangle=90, autopct='%1.1f%%', textprops={'fontsize': 12})\n"
          ]
        },
        {
          "output_type": "display_data",
          "data": {
            "text/plain": [
              "<Figure size 720x432 with 1 Axes>"
            ],
            "image/png": "[encoded data removed]"
          },
          "metadata": {}
        }
      ]
    },
    {
      "cell_type": "markdown",
      "source": [
        "### Geschlechterverteilung"
      ],
      "metadata": {
        "id": "_mzVj4DoXCih"
      }
    },
    {
      "cell_type": "code",
      "source": [
        "colors = sns.color_palette(palette, 9) [3:6:2]\n",
        "\n",
        "#create pie chart\n",
        "plt.pie(df[\"Sex\"].value_counts(), labels=df[\"Sex\"].cat.categories, colors=colors, startangle=90, autopct='%1.1f%%')\n",
        "\n",
        "# Add a title\n",
        "plt.title('Gender')\n",
        "\n",
        "# Show the plot\n",
        "plt.show()"
      ],
      "metadata": {
        "colab": {
          "base_uri": "https://localhost:8080/",
          "height": 377
        },
        "id": "nxnt-q6Oe_cP",
        "outputId": "59967aa3-777c-4e2d-b75f-abee28bbb957"
      },
      "execution_count": 34,
      "outputs": [
        {
          "output_type": "display_data",
          "data": {
            "text/plain": [
              "<Figure size 720x432 with 1 Axes>"
            ],
            "image/png": "[encoded data removed]"
          },
          "metadata": {}
        }
      ]
    },
    {
      "cell_type": "markdown",
      "source": [
        "### Rassenverteilung"
      ],
      "metadata": {
        "id": "iYPLZtUyX0pm"
      }
    },
    {
      "cell_type": "code",
      "source": [
        "colors = sns.color_palette(palette, 9)[2:8]\n",
        "\n",
        "result = df.groupby(df[\"Race\"])[\"Age\"].describe()\n",
        "result = result.reset_index()\n",
        "result\n",
        "sns.barplot(x=\"count\", y=\"Race\", data=result, palette=colors, order = df[\"Race\"].value_counts().index)\n",
        "\n",
        "plt.title('Race Distribution')\n",
        "plt.ylabel('Race')\n",
        "plt.xlabel('Count')\n",
        "\n",
        "# Show the plot\n",
        "plt.show()"
      ],
      "metadata": {
        "colab": {
          "base_uri": "https://localhost:8080/",
          "height": 416
        },
        "id": "fLo8-ZMKM__7",
        "outputId": "1275f5f5-2175-4914-8f5d-a6d41a69ea6b"
      },
      "execution_count": 35,
      "outputs": [
        {
          "output_type": "display_data",
          "data": {
            "text/plain": [
              "<Figure size 720x432 with 1 Axes>"
            ],
            "image/png": "[encoded data removed]"
          },
          "metadata": {
            "needs_background": "light"
          }
        }
      ]
    },
    {
      "cell_type": "markdown",
      "source": [
        "### Altersverteilung"
      ],
      "metadata": {
        "id": "uqhwrswoX-Ya"
      }
    },
    {
      "cell_type": "code",
      "source": [
        "bins = [15, 25, 35, 45, 55, 65, 75, 85, 95]\n",
        "age_categories = pd.cut(df['Age'], bins=bins)\n",
        "age_bins = pd.DataFrame(age_categories)\n",
        "age_bins"
      ],
      "metadata": {
        "id": "SPlLoBtek2cB",
        "colab": {
          "base_uri": "https://localhost:8080/",
          "height": 423
        },
        "outputId": "f980bcde-5f8d-4bc2-f985-a753720fd362"
      },
      "execution_count": 36,
      "outputs": [
        {
          "output_type": "execute_result",
          "data": {
            "text/plain": [
              "           Age\n",
              "1     (45, 55]\n",
              "2     (25, 35]\n",
              "3     (25, 35]\n",
              "4     (15, 25]\n",
              "5     (45, 55]\n",
              "...        ...\n",
              "2826  (15, 25]\n",
              "2827  (15, 25]\n",
              "2828  (15, 25]\n",
              "2829  (15, 25]\n",
              "2830  (15, 25]\n",
              "\n",
              "[2400 rows x 1 columns]"
            ],
            "text/html": [
              "\n",
              "  <div id=\"df-e96b3312-80f7-42de-b776-aa81061bd0a3\">\n",
              "    <div class=\"colab-df-container\">\n",
              "      <div>\n",
              "<style scoped>\n",
              "    .dataframe tbody tr th:only-of-type {\n",
              "        vertical-align: middle;\n",
              "    }\n",
              "\n",
              "    .dataframe tbody tr th {\n",
              "        vertical-align: top;\n",
              "    }\n",
              "\n",
              "    .dataframe thead th {\n",
              "        text-align: right;\n",
              "    }\n",
              "</style>\n",
              "<table border=\"1\" class=\"dataframe\">\n",
              "  <thead>\n",
              "    <tr style=\"text-align: right;\">\n",
              "      <th></th>\n",
              "      <th>Age</th>\n",
              "    </tr>\n",
              "  </thead>\n",
              "  <tbody>\n",
              "    <tr>\n",
              "      <th>1</th>\n",
              "      <td>(45, 55]</td>\n",
              "    </tr>\n",
              "    <tr>\n",
              "      <th>2</th>\n",
              "      <td>(25, 35]</td>\n",
              "    </tr>\n",
              "    <tr>\n",
              "      <th>3</th>\n",
              "      <td>(25, 35]</td>\n",
              "    </tr>\n",
              "    <tr>\n",
              "      <th>4</th>\n",
              "      <td>(15, 25]</td>\n",
              "    </tr>\n",
              "    <tr>\n",
              "      <th>5</th>\n",
              "      <td>(45, 55]</td>\n",
              "    </tr>\n",
              "    <tr>\n",
              "      <th>...</th>\n",
              "      <td>...</td>\n",
              "    </tr>\n",
              "    <tr>\n",
              "      <th>2826</th>\n",
              "      <td>(15, 25]</td>\n",
              "    </tr>\n",
              "    <tr>\n",
              "      <th>2827</th>\n",
              "      <td>(15, 25]</td>\n",
              "    </tr>\n",
              "    <tr>\n",
              "      <th>2828</th>\n",
              "      <td>(15, 25]</td>\n",
              "    </tr>\n",
              "    <tr>\n",
              "      <th>2829</th>\n",
              "      <td>(15, 25]</td>\n",
              "    </tr>\n",
              "    <tr>\n",
              "      <th>2830</th>\n",
              "      <td>(15, 25]</td>\n",
              "    </tr>\n",
              "  </tbody>\n",
              "</table>\n",
              "<p>2400 rows × 1 columns</p>\n",
              "</div>\n",
              "      <button class=\"colab-df-convert\" onclick=\"convertToInteractive('df-e96b3312-80f7-42de-b776-aa81061bd0a3')\"\n",
              "              title=\"Convert this dataframe to an interactive table.\"\n",
              "              style=\"display:none;\">\n",
              "        \n",
              "  <svg xmlns=\"http://www.w3.org/2000/svg\" height=\"24px\"viewBox=\"0 0 24 24\"\n",
              "       width=\"24px\">\n",
              "    <path d=\"M0 0h24v24H0V0z\" fill=\"none\"/>\n",
              "    <path d=\"M18.56 5.44l.94 2.06.94-2.06 2.06-.94-2.06-.94-.94-2.06-.94 2.06-2.06.94zm-11 1L8.5 8.5l.94-2.06 2.06-.94-2.06-.94L8.5 2.5l-.94 2.06-2.06.94zm10 10l.94 2.06.94-2.06 2.06-.94-2.06-.94-.94-2.06-.94 2.06-2.06.94z\"/><path d=\"M17.41 7.96l-1.37-1.37c-.4-.4-.92-.59-1.43-.59-.52 0-1.04.2-1.43.59L10.3 9.45l-7.72 7.72c-.78.78-.78 2.05 0 2.83L4 21.41c.39.39.9.59 1.41.59.51 0 1.02-.2 1.41-.59l7.78-7.78 2.81-2.81c.8-.78.8-2.07 0-2.86zM5.41 20L4 18.59l7.72-7.72 1.47 1.35L5.41 20z\"/>\n",
              "  </svg>\n",
              "      </button>\n",
              "      \n",
              "  <style>\n",
              "    .colab-df-container {\n",
              "      display:flex;\n",
              "      flex-wrap:wrap;\n",
              "      gap: 12px;\n",
              "    }\n",
              "\n",
              "    .colab-df-convert {\n",
              "      background-color: #E8F0FE;\n",
              "      border: none;\n",
              "      border-radius: 50%;\n",
              "      cursor: pointer;\n",
              "      display: none;\n",
              "      fill: #1967D2;\n",
              "      height: 32px;\n",
              "      padding: 0 0 0 0;\n",
              "      width: 32px;\n",
              "    }\n",
              "\n",
              "    .colab-df-convert:hover {\n",
              "      background-color: #E2EBFA;\n",
              "      box-shadow: 0px 1px 2px rgba(60, 64, 67, 0.3), 0px 1px 3px 1px rgba(60, 64, 67, 0.15);\n",
              "      fill: #174EA6;\n",
              "    }\n",
              "\n",
              "    [theme=dark] .colab-df-convert {\n",
              "      background-color: #3B4455;\n",
              "      fill: #D2E3FC;\n",
              "    }\n",
              "\n",
              "    [theme=dark] .colab-df-convert:hover {\n",
              "      background-color: #434B5C;\n",
              "      box-shadow: 0px 1px 3px 1px rgba(0, 0, 0, 0.15);\n",
              "      filter: drop-shadow(0px 1px 2px rgba(0, 0, 0, 0.3));\n",
              "      fill: #FFFFFF;\n",
              "    }\n",
              "  </style>\n",
              "\n",
              "      <script>\n",
              "        const buttonEl =\n",
              "          document.querySelector('#df-e96b3312-80f7-42de-b776-aa81061bd0a3 button.colab-df-convert');\n",
              "        buttonEl.style.display =\n",
              "          google.colab.kernel.accessAllowed ? 'block' : 'none';\n",
              "\n",
              "        async function convertToInteractive(key) {\n",
              "          const element = document.querySelector('#df-e96b3312-80f7-42de-b776-aa81061bd0a3');\n",
              "          const dataTable =\n",
              "            await google.colab.kernel.invokeFunction('convertToInteractive',\n",
              "                                                     [key], {});\n",
              "          if (!dataTable) return;\n",
              "\n",
              "          const docLinkHtml = 'Like what you see? Visit the ' +\n",
              "            '<a target=\"_blank\" href=https://colab.research.google.com/notebooks/data_table.ipynb>data table notebook</a>'\n",
              "            + ' to learn more about interactive tables.';\n",
              "          element.innerHTML = '';\n",
              "          dataTable['output_type'] = 'display_data';\n",
              "          await google.colab.output.renderOutput(dataTable, element);\n",
              "          const docLink = document.createElement('div');\n",
              "          docLink.innerHTML = docLinkHtml;\n",
              "          element.appendChild(docLink);\n",
              "        }\n",
              "      </script>\n",
              "    </div>\n",
              "  </div>\n",
              "  "
            ]
          },
          "metadata": {},
          "execution_count": 36
        }
      ]
    },
    {
      "cell_type": "code",
      "source": [
        "colors = sns.color_palette(palette, 9)[2:8]\n",
        "\n",
        "result = df.groupby(age_bins[\"Age\"])[\"Age\"].describe()\n",
        "df_result = pd.DataFrame(result)\n",
        "df_result = df_result.reset_index()\n",
        "\n",
        "sns.barplot(x=\"count\", y=\"Age\", data=df_result, palette=colors)\n",
        "\n",
        "plt.title('Age Distribution')\n",
        "plt.ylabel('Age')\n",
        "plt.xlabel('Count')\n",
        "\n",
        "plt.show()"
      ],
      "metadata": {
        "colab": {
          "base_uri": "https://localhost:8080/",
          "height": 416
        },
        "id": "2pob75KXRfSB",
        "outputId": "3fdfbe19-d91a-4dd5-834e-f7ea4b3a55c2"
      },
      "execution_count": 37,
      "outputs": [
        {
          "output_type": "display_data",
          "data": {
            "text/plain": [
              "<Figure size 720x432 with 1 Axes>"
            ],
            "image/png": "[encoded data removed]"
          },
          "metadata": {
            "needs_background": "light"
          }
        }
      ]
    },
    {
      "cell_type": "markdown",
      "source": [
        "### Lesegewohnheiten nach Alter"
      ],
      "metadata": {
        "id": "Rco-NIlcbAM3"
      }
    },
    {
      "cell_type": "markdown",
      "source": [
        "**Durchschnitt der in den letzten 12 Monaten gelesenen Bücher nach Alter**"
      ],
      "metadata": {
        "id": "O3DYgTL1cXKT"
      }
    },
    {
      "cell_type": "code",
      "source": [
        "colors = sns.color_palette(palette, 9)\n",
        "\n",
        "df_read = df[df[\"Q1\"] != 0]\n",
        "result = df_read.groupby(df_read[\"Age\"])[\"Q1\"].describe()\n",
        "\n",
        "result = result.reset_index()\n",
        "sns.regplot(x='Age', y='mean', data=result, scatter_kws={'color': \"#494f56\", 's': 50}, line_kws={'color': \"#9E004C\"})\n",
        "\n",
        "plt.xlabel('Ages')\n",
        "plt.ylabel('Average Number of Books Read')\n",
        "plt.title('Average Number of Books Read by Age (in last 12 months)')\n",
        "\n",
        "plt.show()"
      ],
      "metadata": {
        "colab": {
          "base_uri": "https://localhost:8080/",
          "height": 416
        },
        "id": "vnBbf_SHfKYd",
        "outputId": "3f3c9486-f85c-4150-8325-a69da5ec25eb"
      },
      "execution_count": 38,
      "outputs": [
        {
          "output_type": "display_data",
          "data": {
            "text/plain": [
              "<Figure size 720x432 with 1 Axes>"
            ],
            "image/png": "[encoded data removed]"
          },
          "metadata": {
            "needs_background": "light"
          }
        }
      ]
    },
    {
      "cell_type": "code",
      "source": [
        "result = df.groupby(age_bins[\"Age\"])[\"Q1\"].mean()\n",
        "\n",
        "df_result = pd.DataFrame(result)\n",
        "df_result = df_result.reset_index()\n",
        "df_result.rename(columns = {\"Q1\":\"mean of read books\"}, inplace = True)"
      ],
      "metadata": {
        "id": "c2l3z8hY_MUv"
      },
      "execution_count": 39,
      "outputs": []
    },
    {
      "cell_type": "code",
      "source": [
        "colors = sns.color_palette(palette, 9)\n",
        "\n",
        "sns.barplot(x=\"Age\", y=\"mean of read books\", data=df_result, palette=colors)\n",
        "ax = plt.gca()\n",
        "ax.set_xticklabels(['15-25', '25-35', '35-45', '45-55', '55-65', '65-75', '75-85', '85-95'])\n",
        "\n",
        "plt.title('Average Number of Books Read by Age Groups (in last 12 months)')\n",
        "plt.ylabel('Average Number of Books Read')\n",
        "plt.xlabel('Ages')\n",
        "\n",
        "plt.show()"
      ],
      "metadata": {
        "colab": {
          "base_uri": "https://localhost:8080/",
          "height": 416
        },
        "id": "snAzkQ7YF-dM",
        "outputId": "26a6dd4b-7965-4457-a2c4-0d267fcece51"
      },
      "execution_count": 40,
      "outputs": [
        {
          "output_type": "display_data",
          "data": {
            "text/plain": [
              "<Figure size 720x432 with 1 Axes>"
            ],
            "image/png": "[encoded data removed]"
          },
          "metadata": {
            "needs_background": "light"
          }
        }
      ]
    },
    {
      "cell_type": "code",
      "source": [
        "df_ = df.copy()\n",
        "df_[\"age_bins\"] = age_bins\n",
        "df2 = df_[df_['Q1']>0]\n",
        "readers = df2.groupby('age_bins')['Q1'].count()/df2.groupby('Age')['Q1'].count().sum()\n",
        "readers\n",
        "plt.pie(readers, labels=readers.index)\n",
        "plt.show()"
      ],
      "metadata": {
        "colab": {
          "base_uri": "https://localhost:8080/",
          "height": 357
        },
        "id": "Zr3AYAIhshQN",
        "outputId": "4c5cd15e-951a-4a85-8649-36b53506d73e"
      },
      "execution_count": 41,
      "outputs": [
        {
          "output_type": "display_data",
          "data": {
            "text/plain": [
              "<Figure size 720x432 with 1 Axes>"
            ],
            "image/png": "[encoded data removed]"
          },
          "metadata": {}
        }
      ]
    },
    {
      "cell_type": "markdown",
      "source": [
        "### Lesegewohnheiten nach Einkommen"
      ],
      "metadata": {
        "id": "-MNienMUcIIb"
      }
    },
    {
      "cell_type": "code",
      "source": [
        "colors = sns.color_palette(palette, 8)\n",
        "\n",
        "result = df.groupby(df[\"Incomes in 1000s (USD)\"])[\"Q1\"].mean()\n",
        "df_result2 = pd.DataFrame(result)\n",
        "df_result2 = df_result2.reset_index()\n",
        "\n",
        "sns.barplot(x=\"Incomes in 1000s (USD)\", y=\"Q1\", data=df_result2, palette=colors)\n",
        "\n",
        "plt.title('Average Number of Books Read by Incomes(in last 12 months)')\n",
        "plt.ylabel('Average Number of Books Read')\n",
        "plt.xlabel('Incomes in 1000s (USD)')\n",
        "\n",
        "plt.show()"
      ],
      "metadata": {
        "colab": {
          "base_uri": "https://localhost:8080/",
          "height": 0
        },
        "id": "exiezaiheKCq",
        "outputId": "400cba4b-6875-4806-fb36-ca24181bbd50"
      },
      "execution_count": 42,
      "outputs": [
        {
          "output_type": "display_data",
          "data": {
            "text/plain": [
              "<Figure size 720x432 with 1 Axes>"
            ],
            "image/png": "[encoded data removed]"
          },
          "metadata": {
            "needs_background": "light"
          }
        }
      ]
    },
    {
      "cell_type": "markdown",
      "source": [
        "### Lesegewohnheiten nach Bildung"
      ],
      "metadata": {
        "id": "ccnQ0EQUh95Z"
      }
    },
    {
      "cell_type": "code",
      "source": [
        "colors = sns.color_palette(palette, 9)\n",
        "plt.rcParams['figure.figsize'] = 8, 6\n",
        "\n",
        "result = df.groupby(df[\"Education\"])[\"Q1\"].mean()\n",
        "\n",
        "df_result3 = pd.DataFrame(result)\n",
        "df_result3 = df_result3.reset_index()\n",
        "\n",
        "sns.barplot(x=\"Q1\", y=\"Education\", data=df_result3, palette=colors)\n",
        "\n",
        "plt.title('Average Number of Books Read by Education (in last 12 months)')\n",
        "plt.xlabel('Average Number of Books Read')\n",
        "plt.ylabel('Education')\n",
        "\n",
        "plt.show()"
      ],
      "metadata": {
        "colab": {
          "base_uri": "https://localhost:8080/",
          "height": 416
        },
        "outputId": "3c5e6172-95fb-4040-c6ff-ba9e0436e18b",
        "id": "n25Uv1ejh95e"
      },
      "execution_count": 43,
      "outputs": [
        {
          "output_type": "display_data",
          "data": {
            "text/plain": [
              "<Figure size 576x432 with 1 Axes>"
            ],
            "image/png": "[encoded data removed]"
          },
          "metadata": {
            "needs_background": "light"
          }
        }
      ]
    },
    {
      "cell_type": "markdown",
      "source": [
        "### Antworten auf Umfragefragen"
      ],
      "metadata": {
        "id": "cjQY6GvYnOF8"
      }
    },
    {
      "cell_type": "code",
      "source": [
        "plt.figure(figsize=(6,6))\n",
        "colors = sns.color_palette(palette, 9)[7:9]\n",
        "\n",
        "sns.countplot(x= \"Q2\", data = df, palette = colors, order = [\"Yes\", \"No\"])\n",
        "\n",
        "plt.title(\"Q2: \" + str(questions[1]))\n",
        "plt.ylabel('People Count')\n",
        "plt.xlabel('Answer')"
      ],
      "metadata": {
        "colab": {
          "base_uri": "https://localhost:8080/",
          "height": 433
        },
        "id": "Aq3Jc0ZjDlBv",
        "outputId": "2a2d2be4-adfe-438c-b0d2-580cc7c5f4ef"
      },
      "execution_count": 44,
      "outputs": [
        {
          "output_type": "execute_result",
          "data": {
            "text/plain": [
              "Text(0.5, 0, 'Answer')"
            ]
          },
          "metadata": {},
          "execution_count": 44
        },
        {
          "output_type": "display_data",
          "data": {
            "text/plain": [
              "<Figure size 432x432 with 1 Axes>"
            ],
            "image/png": "[encoded data removed]"
          },
          "metadata": {
            "needs_background": "light"
          }
        }
      ]
    },
    {
      "cell_type": "code",
      "source": [
        "plt.figure(figsize=(6,6))\n",
        "colors = sns.color_palette(palette, 9)[7:9]\n",
        "\n",
        "sns.countplot(x= \"Q3\", data = df, palette = colors, order = [\"Yes\", \"No\"])\n",
        "\n",
        "plt.title(\"Q3: \" + str(questions[2]))\n",
        "plt.ylabel('People Count')\n",
        "plt.xlabel('Answer')"
      ],
      "metadata": {
        "colab": {
          "base_uri": "https://localhost:8080/",
          "height": 433
        },
        "outputId": "f922b39b-4d6d-4ffc-b2a2-94daf1cd440b",
        "id": "vLR15tKVlrWb"
      },
      "execution_count": 45,
      "outputs": [
        {
          "output_type": "execute_result",
          "data": {
            "text/plain": [
              "Text(0.5, 0, 'Answer')"
            ]
          },
          "metadata": {},
          "execution_count": 45
        },
        {
          "output_type": "display_data",
          "data": {
            "text/plain": [
              "<Figure size 432x432 with 1 Axes>"
            ],
            "image/png": "[encoded data removed]"
          },
          "metadata": {
            "needs_background": "light"
          }
        }
      ]
    },
    {
      "cell_type": "code",
      "source": [
        "plt.figure(figsize=(6,6))\n",
        "colors = sns.color_palette(palette, 9)[7:9]\n",
        "sns.countplot(x= \"Q4\", data = df, palette = colors, order = [\"Yes\", \"No\"])\n",
        "\n",
        "plt.title(\"Q4: \" + str(questions[3]))\n",
        "plt.ylabel('People Count')\n",
        "plt.xlabel('Answer')"
      ],
      "metadata": {
        "colab": {
          "base_uri": "https://localhost:8080/",
          "height": 433
        },
        "outputId": "38eb12c8-fae7-44c7-d83b-33e24befe9ac",
        "id": "tRf-QBBZlrbv"
      },
      "execution_count": 46,
      "outputs": [
        {
          "output_type": "execute_result",
          "data": {
            "text/plain": [
              "Text(0.5, 0, 'Answer')"
            ]
          },
          "metadata": {},
          "execution_count": 46
        },
        {
          "output_type": "display_data",
          "data": {
            "text/plain": [
              "<Figure size 432x432 with 1 Axes>"
            ],
            "image/png": "[encoded data removed]"
          },
          "metadata": {
            "needs_background": "light"
          }
        }
      ]
    },
    {
      "cell_type": "markdown",
      "source": [
        "## Erhalt gelesener Bücher nach Einkommen\n"
      ],
      "metadata": {
        "id": "jvvpXC-wdxWg"
      }
    },
    {
      "cell_type": "code",
      "source": [
        "colors = sns.color_palette(palette, 9)[8:0:-2]\n",
        "plt.figure(figsize=(10,6))\n",
        "\n",
        "sns.countplot(x = \"Incomes in 1000s (USD)\", data = df_nonzeros, hue = \"Q5\", palette = colors)\n",
        "plt.title(\"Q5: \" + str(questions[4]))\n",
        "\n",
        "plt.ylabel('People count')\n",
        "plt.xlabel('Incomes in 1000s (USD)')\n",
        "\n",
        "plt.show()"
      ],
      "metadata": {
        "colab": {
          "base_uri": "https://localhost:8080/",
          "height": 416
        },
        "id": "IAYt2T1mG5ps",
        "outputId": "da953c1c-289b-4c13-90ad-0380fa6c1bfb"
      },
      "execution_count": 47,
      "outputs": [
        {
          "output_type": "display_data",
          "data": {
            "text/plain": [
              "<Figure size 720x432 with 1 Axes>"
            ],
            "image/png": "[encoded data removed]"
          },
          "metadata": {
            "needs_background": "light"
          }
        }
      ]
    }
  ]
}